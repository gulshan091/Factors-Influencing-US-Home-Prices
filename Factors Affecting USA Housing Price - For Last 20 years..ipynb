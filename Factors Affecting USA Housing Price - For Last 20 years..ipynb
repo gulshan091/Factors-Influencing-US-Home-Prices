{
 "cells": [
  {
   "cell_type": "code",
   "execution_count": 1,
   "id": "c76a32c2",
   "metadata": {},
   "outputs": [],
   "source": [
    "# importing libraries\n",
    "import numpy as np\n",
    "import pandas as pd\n",
    "import matplotlib.pyplot as plt\n",
    "import seaborn as sns"
   ]
  },
  {
   "cell_type": "markdown",
   "id": "f8d6287d",
   "metadata": {},
   "source": [
    "### Data Preparation"
   ]
  },
  {
   "cell_type": "code",
   "execution_count": 2,
   "id": "4fa22811",
   "metadata": {},
   "outputs": [],
   "source": [
    "#Reading CASE-SHILLER Home Price Index into a dataframe\n",
    "df_hp = pd.read_csv(\"CSUSHPISA.csv\")\n",
    "# Reading Unemployment Rate Data into a dataframe\n",
    "df_unemp = pd.read_csv(\"UNRATE.csv\")\n",
    "# Reading GDP Data into a dataframe\n",
    "df_gdp = pd.read_csv(\"GDP.csv\")\n",
    "# Reading Personal Disposable Income Data into a dataframe\n",
    "df_rdpi = pd.read_csv(\"DSPIC96.csv\")\n",
    "# Reading Population Data into a dataframe\n",
    "df_population = pd.read_csv(\"POPTHM.csv\")\n",
    "# Reading Homeownership Rate Data into a dataframe\n",
    "df_homeown = pd.read_csv(\"RHORUSQ156N.csv\")\n",
    "# Reading New House Permit Data into a dataframe\n",
    "df_hpermit=pd.read_csv(\"PERMIT.csv\")\n",
    "# Reading Privately Owned House Data into a dataframe\n",
    "df_private_owned_housing=pd.read_csv(\"HOUST.csv\")\n",
    "# Reading Fedral Funds Data into a dataframe\n",
    "df_fed_funds= pd.read_csv(\"FEDFUNDS.csv\")"
   ]
  },
  {
   "cell_type": "code",
   "execution_count": 3,
   "id": "745809e3",
   "metadata": {},
   "outputs": [
    {
     "data": {
      "text/html": [
       "<div>\n",
       "<style scoped>\n",
       "    .dataframe tbody tr th:only-of-type {\n",
       "        vertical-align: middle;\n",
       "    }\n",
       "\n",
       "    .dataframe tbody tr th {\n",
       "        vertical-align: top;\n",
       "    }\n",
       "\n",
       "    .dataframe thead th {\n",
       "        text-align: right;\n",
       "    }\n",
       "</style>\n",
       "<table border=\"1\" class=\"dataframe\">\n",
       "  <thead>\n",
       "    <tr style=\"text-align: right;\">\n",
       "      <th></th>\n",
       "      <th>DATE</th>\n",
       "      <th>CSUSHPISA</th>\n",
       "    </tr>\n",
       "  </thead>\n",
       "  <tbody>\n",
       "    <tr>\n",
       "      <th>0</th>\n",
       "      <td>1987-01-01</td>\n",
       "      <td>63.965</td>\n",
       "    </tr>\n",
       "    <tr>\n",
       "      <th>1</th>\n",
       "      <td>1987-02-01</td>\n",
       "      <td>64.424</td>\n",
       "    </tr>\n",
       "    <tr>\n",
       "      <th>2</th>\n",
       "      <td>1987-03-01</td>\n",
       "      <td>64.735</td>\n",
       "    </tr>\n",
       "    <tr>\n",
       "      <th>3</th>\n",
       "      <td>1987-04-01</td>\n",
       "      <td>65.131</td>\n",
       "    </tr>\n",
       "    <tr>\n",
       "      <th>4</th>\n",
       "      <td>1987-05-01</td>\n",
       "      <td>65.563</td>\n",
       "    </tr>\n",
       "  </tbody>\n",
       "</table>\n",
       "</div>"
      ],
      "text/plain": [
       "         DATE  CSUSHPISA\n",
       "0  1987-01-01     63.965\n",
       "1  1987-02-01     64.424\n",
       "2  1987-03-01     64.735\n",
       "3  1987-04-01     65.131\n",
       "4  1987-05-01     65.563"
      ]
     },
     "execution_count": 3,
     "metadata": {},
     "output_type": "execute_result"
    }
   ],
   "source": [
    "df_hp.head()"
   ]
  },
  {
   "cell_type": "code",
   "execution_count": 4,
   "id": "a7dede8b",
   "metadata": {},
   "outputs": [
    {
     "data": {
      "text/plain": [
       "(438, 2)"
      ]
     },
     "execution_count": 4,
     "metadata": {},
     "output_type": "execute_result"
    }
   ],
   "source": [
    "df_hp.shape"
   ]
  },
  {
   "cell_type": "code",
   "execution_count": 5,
   "id": "138cc201",
   "metadata": {},
   "outputs": [
    {
     "data": {
      "text/html": [
       "<div>\n",
       "<style scoped>\n",
       "    .dataframe tbody tr th:only-of-type {\n",
       "        vertical-align: middle;\n",
       "    }\n",
       "\n",
       "    .dataframe tbody tr th {\n",
       "        vertical-align: top;\n",
       "    }\n",
       "\n",
       "    .dataframe thead th {\n",
       "        text-align: right;\n",
       "    }\n",
       "</style>\n",
       "<table border=\"1\" class=\"dataframe\">\n",
       "  <thead>\n",
       "    <tr style=\"text-align: right;\">\n",
       "      <th></th>\n",
       "      <th>DATE</th>\n",
       "      <th>UNRATE</th>\n",
       "    </tr>\n",
       "  </thead>\n",
       "  <tbody>\n",
       "    <tr>\n",
       "      <th>0</th>\n",
       "      <td>1948-01-01</td>\n",
       "      <td>3.4</td>\n",
       "    </tr>\n",
       "    <tr>\n",
       "      <th>1</th>\n",
       "      <td>1948-02-01</td>\n",
       "      <td>3.8</td>\n",
       "    </tr>\n",
       "    <tr>\n",
       "      <th>2</th>\n",
       "      <td>1948-03-01</td>\n",
       "      <td>4.0</td>\n",
       "    </tr>\n",
       "    <tr>\n",
       "      <th>3</th>\n",
       "      <td>1948-04-01</td>\n",
       "      <td>3.9</td>\n",
       "    </tr>\n",
       "    <tr>\n",
       "      <th>4</th>\n",
       "      <td>1948-05-01</td>\n",
       "      <td>3.5</td>\n",
       "    </tr>\n",
       "  </tbody>\n",
       "</table>\n",
       "</div>"
      ],
      "text/plain": [
       "         DATE  UNRATE\n",
       "0  1948-01-01     3.4\n",
       "1  1948-02-01     3.8\n",
       "2  1948-03-01     4.0\n",
       "3  1948-04-01     3.9\n",
       "4  1948-05-01     3.5"
      ]
     },
     "execution_count": 5,
     "metadata": {},
     "output_type": "execute_result"
    }
   ],
   "source": [
    "df_unemp.head()"
   ]
  },
  {
   "cell_type": "code",
   "execution_count": 6,
   "id": "5c4c2ff4",
   "metadata": {},
   "outputs": [
    {
     "data": {
      "text/plain": [
       "(908, 2)"
      ]
     },
     "execution_count": 6,
     "metadata": {},
     "output_type": "execute_result"
    }
   ],
   "source": [
    "df_unemp.shape"
   ]
  },
  {
   "cell_type": "code",
   "execution_count": 7,
   "id": "0782709d",
   "metadata": {},
   "outputs": [
    {
     "data": {
      "text/html": [
       "<div>\n",
       "<style scoped>\n",
       "    .dataframe tbody tr th:only-of-type {\n",
       "        vertical-align: middle;\n",
       "    }\n",
       "\n",
       "    .dataframe tbody tr th {\n",
       "        vertical-align: top;\n",
       "    }\n",
       "\n",
       "    .dataframe thead th {\n",
       "        text-align: right;\n",
       "    }\n",
       "</style>\n",
       "<table border=\"1\" class=\"dataframe\">\n",
       "  <thead>\n",
       "    <tr style=\"text-align: right;\">\n",
       "      <th></th>\n",
       "      <th>DATE</th>\n",
       "      <th>GDP</th>\n",
       "    </tr>\n",
       "  </thead>\n",
       "  <tbody>\n",
       "    <tr>\n",
       "      <th>0</th>\n",
       "      <td>1947-01-01</td>\n",
       "      <td>243.164</td>\n",
       "    </tr>\n",
       "    <tr>\n",
       "      <th>1</th>\n",
       "      <td>1947-04-01</td>\n",
       "      <td>245.968</td>\n",
       "    </tr>\n",
       "    <tr>\n",
       "      <th>2</th>\n",
       "      <td>1947-07-01</td>\n",
       "      <td>249.585</td>\n",
       "    </tr>\n",
       "    <tr>\n",
       "      <th>3</th>\n",
       "      <td>1947-10-01</td>\n",
       "      <td>259.745</td>\n",
       "    </tr>\n",
       "    <tr>\n",
       "      <th>4</th>\n",
       "      <td>1948-01-01</td>\n",
       "      <td>265.742</td>\n",
       "    </tr>\n",
       "  </tbody>\n",
       "</table>\n",
       "</div>"
      ],
      "text/plain": [
       "         DATE      GDP\n",
       "0  1947-01-01  243.164\n",
       "1  1947-04-01  245.968\n",
       "2  1947-07-01  249.585\n",
       "3  1947-10-01  259.745\n",
       "4  1948-01-01  265.742"
      ]
     },
     "execution_count": 7,
     "metadata": {},
     "output_type": "execute_result"
    }
   ],
   "source": [
    "df_gdp.head() "
   ]
  },
  {
   "cell_type": "code",
   "execution_count": 8,
   "id": "1a0aa261",
   "metadata": {},
   "outputs": [
    {
     "data": {
      "text/plain": [
       "(306, 2)"
      ]
     },
     "execution_count": 8,
     "metadata": {},
     "output_type": "execute_result"
    }
   ],
   "source": [
    "df_gdp.shape"
   ]
  },
  {
   "cell_type": "code",
   "execution_count": 9,
   "id": "0e15aa1b",
   "metadata": {},
   "outputs": [
    {
     "data": {
      "text/html": [
       "<div>\n",
       "<style scoped>\n",
       "    .dataframe tbody tr th:only-of-type {\n",
       "        vertical-align: middle;\n",
       "    }\n",
       "\n",
       "    .dataframe tbody tr th {\n",
       "        vertical-align: top;\n",
       "    }\n",
       "\n",
       "    .dataframe thead th {\n",
       "        text-align: right;\n",
       "    }\n",
       "</style>\n",
       "<table border=\"1\" class=\"dataframe\">\n",
       "  <thead>\n",
       "    <tr style=\"text-align: right;\">\n",
       "      <th></th>\n",
       "      <th>DATE</th>\n",
       "      <th>DSPIC96</th>\n",
       "    </tr>\n",
       "  </thead>\n",
       "  <tbody>\n",
       "    <tr>\n",
       "      <th>0</th>\n",
       "      <td>1959-01-01</td>\n",
       "      <td>2191.5</td>\n",
       "    </tr>\n",
       "    <tr>\n",
       "      <th>1</th>\n",
       "      <td>1959-02-01</td>\n",
       "      <td>2198.1</td>\n",
       "    </tr>\n",
       "    <tr>\n",
       "      <th>2</th>\n",
       "      <td>1959-03-01</td>\n",
       "      <td>2210.7</td>\n",
       "    </tr>\n",
       "    <tr>\n",
       "      <th>3</th>\n",
       "      <td>1959-04-01</td>\n",
       "      <td>2225.0</td>\n",
       "    </tr>\n",
       "    <tr>\n",
       "      <th>4</th>\n",
       "      <td>1959-05-01</td>\n",
       "      <td>2237.1</td>\n",
       "    </tr>\n",
       "  </tbody>\n",
       "</table>\n",
       "</div>"
      ],
      "text/plain": [
       "         DATE  DSPIC96\n",
       "0  1959-01-01   2191.5\n",
       "1  1959-02-01   2198.1\n",
       "2  1959-03-01   2210.7\n",
       "3  1959-04-01   2225.0\n",
       "4  1959-05-01   2237.1"
      ]
     },
     "execution_count": 9,
     "metadata": {},
     "output_type": "execute_result"
    }
   ],
   "source": [
    "df_rdpi.head()"
   ]
  },
  {
   "cell_type": "code",
   "execution_count": 10,
   "id": "9f5f30e2",
   "metadata": {},
   "outputs": [
    {
     "data": {
      "text/plain": [
       "(775, 2)"
      ]
     },
     "execution_count": 10,
     "metadata": {},
     "output_type": "execute_result"
    }
   ],
   "source": [
    "df_rdpi.shape"
   ]
  },
  {
   "cell_type": "code",
   "execution_count": 11,
   "id": "71705a81",
   "metadata": {},
   "outputs": [
    {
     "data": {
      "text/html": [
       "<div>\n",
       "<style scoped>\n",
       "    .dataframe tbody tr th:only-of-type {\n",
       "        vertical-align: middle;\n",
       "    }\n",
       "\n",
       "    .dataframe tbody tr th {\n",
       "        vertical-align: top;\n",
       "    }\n",
       "\n",
       "    .dataframe thead th {\n",
       "        text-align: right;\n",
       "    }\n",
       "</style>\n",
       "<table border=\"1\" class=\"dataframe\">\n",
       "  <thead>\n",
       "    <tr style=\"text-align: right;\">\n",
       "      <th></th>\n",
       "      <th>DATE</th>\n",
       "      <th>POPTHM</th>\n",
       "    </tr>\n",
       "  </thead>\n",
       "  <tbody>\n",
       "    <tr>\n",
       "      <th>0</th>\n",
       "      <td>1959-01-01</td>\n",
       "      <td>175818.0</td>\n",
       "    </tr>\n",
       "    <tr>\n",
       "      <th>1</th>\n",
       "      <td>1959-02-01</td>\n",
       "      <td>176044.0</td>\n",
       "    </tr>\n",
       "    <tr>\n",
       "      <th>2</th>\n",
       "      <td>1959-03-01</td>\n",
       "      <td>176274.0</td>\n",
       "    </tr>\n",
       "    <tr>\n",
       "      <th>3</th>\n",
       "      <td>1959-04-01</td>\n",
       "      <td>176503.0</td>\n",
       "    </tr>\n",
       "    <tr>\n",
       "      <th>4</th>\n",
       "      <td>1959-05-01</td>\n",
       "      <td>176723.0</td>\n",
       "    </tr>\n",
       "  </tbody>\n",
       "</table>\n",
       "</div>"
      ],
      "text/plain": [
       "         DATE    POPTHM\n",
       "0  1959-01-01  175818.0\n",
       "1  1959-02-01  176044.0\n",
       "2  1959-03-01  176274.0\n",
       "3  1959-04-01  176503.0\n",
       "4  1959-05-01  176723.0"
      ]
     },
     "execution_count": 11,
     "metadata": {},
     "output_type": "execute_result"
    }
   ],
   "source": [
    "df_population.head()"
   ]
  },
  {
   "cell_type": "code",
   "execution_count": 12,
   "id": "43f0b386",
   "metadata": {},
   "outputs": [
    {
     "data": {
      "text/plain": [
       "(775, 2)"
      ]
     },
     "execution_count": 12,
     "metadata": {},
     "output_type": "execute_result"
    }
   ],
   "source": [
    "df_population.shape"
   ]
  },
  {
   "cell_type": "code",
   "execution_count": 13,
   "id": "51fba5db",
   "metadata": {},
   "outputs": [
    {
     "data": {
      "text/html": [
       "<div>\n",
       "<style scoped>\n",
       "    .dataframe tbody tr th:only-of-type {\n",
       "        vertical-align: middle;\n",
       "    }\n",
       "\n",
       "    .dataframe tbody tr th {\n",
       "        vertical-align: top;\n",
       "    }\n",
       "\n",
       "    .dataframe thead th {\n",
       "        text-align: right;\n",
       "    }\n",
       "</style>\n",
       "<table border=\"1\" class=\"dataframe\">\n",
       "  <thead>\n",
       "    <tr style=\"text-align: right;\">\n",
       "      <th></th>\n",
       "      <th>DATE</th>\n",
       "      <th>RHORUSQ156N</th>\n",
       "    </tr>\n",
       "  </thead>\n",
       "  <tbody>\n",
       "    <tr>\n",
       "      <th>0</th>\n",
       "      <td>1965-01-01</td>\n",
       "      <td>62.9</td>\n",
       "    </tr>\n",
       "    <tr>\n",
       "      <th>1</th>\n",
       "      <td>1965-04-01</td>\n",
       "      <td>62.9</td>\n",
       "    </tr>\n",
       "    <tr>\n",
       "      <th>2</th>\n",
       "      <td>1965-07-01</td>\n",
       "      <td>62.9</td>\n",
       "    </tr>\n",
       "    <tr>\n",
       "      <th>3</th>\n",
       "      <td>1965-10-01</td>\n",
       "      <td>63.4</td>\n",
       "    </tr>\n",
       "    <tr>\n",
       "      <th>4</th>\n",
       "      <td>1966-01-01</td>\n",
       "      <td>63.5</td>\n",
       "    </tr>\n",
       "  </tbody>\n",
       "</table>\n",
       "</div>"
      ],
      "text/plain": [
       "         DATE  RHORUSQ156N\n",
       "0  1965-01-01         62.9\n",
       "1  1965-04-01         62.9\n",
       "2  1965-07-01         62.9\n",
       "3  1965-10-01         63.4\n",
       "4  1966-01-01         63.5"
      ]
     },
     "execution_count": 13,
     "metadata": {},
     "output_type": "execute_result"
    }
   ],
   "source": [
    "df_homeown.head()"
   ]
  },
  {
   "cell_type": "code",
   "execution_count": 14,
   "id": "b442af0e",
   "metadata": {},
   "outputs": [
    {
     "data": {
      "text/html": [
       "<div>\n",
       "<style scoped>\n",
       "    .dataframe tbody tr th:only-of-type {\n",
       "        vertical-align: middle;\n",
       "    }\n",
       "\n",
       "    .dataframe tbody tr th {\n",
       "        vertical-align: top;\n",
       "    }\n",
       "\n",
       "    .dataframe thead th {\n",
       "        text-align: right;\n",
       "    }\n",
       "</style>\n",
       "<table border=\"1\" class=\"dataframe\">\n",
       "  <thead>\n",
       "    <tr style=\"text-align: right;\">\n",
       "      <th></th>\n",
       "      <th>DATE</th>\n",
       "      <th>RHORUSQ156N</th>\n",
       "    </tr>\n",
       "  </thead>\n",
       "  <tbody>\n",
       "    <tr>\n",
       "      <th>229</th>\n",
       "      <td>2022-04-01</td>\n",
       "      <td>65.8</td>\n",
       "    </tr>\n",
       "    <tr>\n",
       "      <th>230</th>\n",
       "      <td>2022-07-01</td>\n",
       "      <td>66.0</td>\n",
       "    </tr>\n",
       "    <tr>\n",
       "      <th>231</th>\n",
       "      <td>2022-10-01</td>\n",
       "      <td>65.9</td>\n",
       "    </tr>\n",
       "    <tr>\n",
       "      <th>232</th>\n",
       "      <td>2023-01-01</td>\n",
       "      <td>66.0</td>\n",
       "    </tr>\n",
       "    <tr>\n",
       "      <th>233</th>\n",
       "      <td>2023-04-01</td>\n",
       "      <td>65.9</td>\n",
       "    </tr>\n",
       "  </tbody>\n",
       "</table>\n",
       "</div>"
      ],
      "text/plain": [
       "           DATE  RHORUSQ156N\n",
       "229  2022-04-01         65.8\n",
       "230  2022-07-01         66.0\n",
       "231  2022-10-01         65.9\n",
       "232  2023-01-01         66.0\n",
       "233  2023-04-01         65.9"
      ]
     },
     "execution_count": 14,
     "metadata": {},
     "output_type": "execute_result"
    }
   ],
   "source": [
    "df_homeown.tail()"
   ]
  },
  {
   "cell_type": "code",
   "execution_count": 15,
   "id": "7048c818",
   "metadata": {},
   "outputs": [
    {
     "data": {
      "text/plain": [
       "(234, 2)"
      ]
     },
     "execution_count": 15,
     "metadata": {},
     "output_type": "execute_result"
    }
   ],
   "source": [
    "df_homeown.shape"
   ]
  },
  {
   "cell_type": "code",
   "execution_count": 16,
   "id": "bde43bb8",
   "metadata": {},
   "outputs": [
    {
     "data": {
      "text/html": [
       "<div>\n",
       "<style scoped>\n",
       "    .dataframe tbody tr th:only-of-type {\n",
       "        vertical-align: middle;\n",
       "    }\n",
       "\n",
       "    .dataframe tbody tr th {\n",
       "        vertical-align: top;\n",
       "    }\n",
       "\n",
       "    .dataframe thead th {\n",
       "        text-align: right;\n",
       "    }\n",
       "</style>\n",
       "<table border=\"1\" class=\"dataframe\">\n",
       "  <thead>\n",
       "    <tr style=\"text-align: right;\">\n",
       "      <th></th>\n",
       "      <th>DATE</th>\n",
       "      <th>PERMIT</th>\n",
       "    </tr>\n",
       "  </thead>\n",
       "  <tbody>\n",
       "    <tr>\n",
       "      <th>0</th>\n",
       "      <td>1960-01-01</td>\n",
       "      <td>1092.0</td>\n",
       "    </tr>\n",
       "    <tr>\n",
       "      <th>1</th>\n",
       "      <td>1960-02-01</td>\n",
       "      <td>1088.0</td>\n",
       "    </tr>\n",
       "    <tr>\n",
       "      <th>2</th>\n",
       "      <td>1960-03-01</td>\n",
       "      <td>955.0</td>\n",
       "    </tr>\n",
       "    <tr>\n",
       "      <th>3</th>\n",
       "      <td>1960-04-01</td>\n",
       "      <td>1016.0</td>\n",
       "    </tr>\n",
       "    <tr>\n",
       "      <th>4</th>\n",
       "      <td>1960-05-01</td>\n",
       "      <td>1052.0</td>\n",
       "    </tr>\n",
       "  </tbody>\n",
       "</table>\n",
       "</div>"
      ],
      "text/plain": [
       "         DATE  PERMIT\n",
       "0  1960-01-01  1092.0\n",
       "1  1960-02-01  1088.0\n",
       "2  1960-03-01   955.0\n",
       "3  1960-04-01  1016.0\n",
       "4  1960-05-01  1052.0"
      ]
     },
     "execution_count": 16,
     "metadata": {},
     "output_type": "execute_result"
    }
   ],
   "source": [
    "df_hpermit.head()"
   ]
  },
  {
   "cell_type": "code",
   "execution_count": 17,
   "id": "eced6aa3",
   "metadata": {},
   "outputs": [
    {
     "data": {
      "text/plain": [
       "(764, 2)"
      ]
     },
     "execution_count": 17,
     "metadata": {},
     "output_type": "execute_result"
    }
   ],
   "source": [
    "df_hpermit.shape"
   ]
  },
  {
   "cell_type": "code",
   "execution_count": 18,
   "id": "b668368b",
   "metadata": {},
   "outputs": [
    {
     "data": {
      "text/html": [
       "<div>\n",
       "<style scoped>\n",
       "    .dataframe tbody tr th:only-of-type {\n",
       "        vertical-align: middle;\n",
       "    }\n",
       "\n",
       "    .dataframe tbody tr th {\n",
       "        vertical-align: top;\n",
       "    }\n",
       "\n",
       "    .dataframe thead th {\n",
       "        text-align: right;\n",
       "    }\n",
       "</style>\n",
       "<table border=\"1\" class=\"dataframe\">\n",
       "  <thead>\n",
       "    <tr style=\"text-align: right;\">\n",
       "      <th></th>\n",
       "      <th>DATE</th>\n",
       "      <th>HOUST</th>\n",
       "    </tr>\n",
       "  </thead>\n",
       "  <tbody>\n",
       "    <tr>\n",
       "      <th>0</th>\n",
       "      <td>1959-01-01</td>\n",
       "      <td>1657.0</td>\n",
       "    </tr>\n",
       "    <tr>\n",
       "      <th>1</th>\n",
       "      <td>1959-02-01</td>\n",
       "      <td>1667.0</td>\n",
       "    </tr>\n",
       "    <tr>\n",
       "      <th>2</th>\n",
       "      <td>1959-03-01</td>\n",
       "      <td>1620.0</td>\n",
       "    </tr>\n",
       "    <tr>\n",
       "      <th>3</th>\n",
       "      <td>1959-04-01</td>\n",
       "      <td>1590.0</td>\n",
       "    </tr>\n",
       "    <tr>\n",
       "      <th>4</th>\n",
       "      <td>1959-05-01</td>\n",
       "      <td>1498.0</td>\n",
       "    </tr>\n",
       "  </tbody>\n",
       "</table>\n",
       "</div>"
      ],
      "text/plain": [
       "         DATE   HOUST\n",
       "0  1959-01-01  1657.0\n",
       "1  1959-02-01  1667.0\n",
       "2  1959-03-01  1620.0\n",
       "3  1959-04-01  1590.0\n",
       "4  1959-05-01  1498.0"
      ]
     },
     "execution_count": 18,
     "metadata": {},
     "output_type": "execute_result"
    }
   ],
   "source": [
    "df_private_owned_housing.head()"
   ]
  },
  {
   "cell_type": "code",
   "execution_count": 19,
   "id": "a6f1663a",
   "metadata": {},
   "outputs": [
    {
     "data": {
      "text/plain": [
       "(776, 2)"
      ]
     },
     "execution_count": 19,
     "metadata": {},
     "output_type": "execute_result"
    }
   ],
   "source": [
    "df_private_owned_housing.shape"
   ]
  },
  {
   "cell_type": "code",
   "execution_count": 20,
   "id": "4e7317f4",
   "metadata": {},
   "outputs": [
    {
     "data": {
      "text/html": [
       "<div>\n",
       "<style scoped>\n",
       "    .dataframe tbody tr th:only-of-type {\n",
       "        vertical-align: middle;\n",
       "    }\n",
       "\n",
       "    .dataframe tbody tr th {\n",
       "        vertical-align: top;\n",
       "    }\n",
       "\n",
       "    .dataframe thead th {\n",
       "        text-align: right;\n",
       "    }\n",
       "</style>\n",
       "<table border=\"1\" class=\"dataframe\">\n",
       "  <thead>\n",
       "    <tr style=\"text-align: right;\">\n",
       "      <th></th>\n",
       "      <th>DATE</th>\n",
       "      <th>FEDFUNDS</th>\n",
       "    </tr>\n",
       "  </thead>\n",
       "  <tbody>\n",
       "    <tr>\n",
       "      <th>0</th>\n",
       "      <td>1954-07-01</td>\n",
       "      <td>0.80</td>\n",
       "    </tr>\n",
       "    <tr>\n",
       "      <th>1</th>\n",
       "      <td>1954-08-01</td>\n",
       "      <td>1.22</td>\n",
       "    </tr>\n",
       "    <tr>\n",
       "      <th>2</th>\n",
       "      <td>1954-09-01</td>\n",
       "      <td>1.07</td>\n",
       "    </tr>\n",
       "    <tr>\n",
       "      <th>3</th>\n",
       "      <td>1954-10-01</td>\n",
       "      <td>0.85</td>\n",
       "    </tr>\n",
       "    <tr>\n",
       "      <th>4</th>\n",
       "      <td>1954-11-01</td>\n",
       "      <td>0.83</td>\n",
       "    </tr>\n",
       "  </tbody>\n",
       "</table>\n",
       "</div>"
      ],
      "text/plain": [
       "         DATE  FEDFUNDS\n",
       "0  1954-07-01      0.80\n",
       "1  1954-08-01      1.22\n",
       "2  1954-09-01      1.07\n",
       "3  1954-10-01      0.85\n",
       "4  1954-11-01      0.83"
      ]
     },
     "execution_count": 20,
     "metadata": {},
     "output_type": "execute_result"
    }
   ],
   "source": [
    "df_fed_funds.head()"
   ]
  },
  {
   "cell_type": "code",
   "execution_count": 21,
   "id": "c99756ac",
   "metadata": {},
   "outputs": [
    {
     "data": {
      "text/plain": [
       "(830, 2)"
      ]
     },
     "execution_count": 21,
     "metadata": {},
     "output_type": "execute_result"
    }
   ],
   "source": [
    "df_fed_funds.shape"
   ]
  },
  {
   "cell_type": "code",
   "execution_count": 22,
   "id": "2b89db22",
   "metadata": {},
   "outputs": [
    {
     "name": "stdout",
     "output_type": "stream",
     "text": [
      "<class 'pandas.core.frame.DataFrame'>\n",
      "RangeIndex: 438 entries, 0 to 437\n",
      "Data columns (total 2 columns):\n",
      " #   Column     Non-Null Count  Dtype  \n",
      "---  ------     --------------  -----  \n",
      " 0   DATE       438 non-null    object \n",
      " 1   CSUSHPISA  438 non-null    float64\n",
      "dtypes: float64(1), object(1)\n",
      "memory usage: 7.0+ KB\n",
      "------------------------------------------\n",
      "<class 'pandas.core.frame.DataFrame'>\n",
      "RangeIndex: 908 entries, 0 to 907\n",
      "Data columns (total 2 columns):\n",
      " #   Column  Non-Null Count  Dtype  \n",
      "---  ------  --------------  -----  \n",
      " 0   DATE    908 non-null    object \n",
      " 1   UNRATE  908 non-null    float64\n",
      "dtypes: float64(1), object(1)\n",
      "memory usage: 14.3+ KB\n",
      "------------------------------------------\n",
      "<class 'pandas.core.frame.DataFrame'>\n",
      "RangeIndex: 306 entries, 0 to 305\n",
      "Data columns (total 2 columns):\n",
      " #   Column  Non-Null Count  Dtype  \n",
      "---  ------  --------------  -----  \n",
      " 0   DATE    306 non-null    object \n",
      " 1   GDP     306 non-null    float64\n",
      "dtypes: float64(1), object(1)\n",
      "memory usage: 4.9+ KB\n",
      "------------------------------------------\n",
      "<class 'pandas.core.frame.DataFrame'>\n",
      "RangeIndex: 775 entries, 0 to 774\n",
      "Data columns (total 2 columns):\n",
      " #   Column   Non-Null Count  Dtype  \n",
      "---  ------   --------------  -----  \n",
      " 0   DATE     775 non-null    object \n",
      " 1   DSPIC96  775 non-null    float64\n",
      "dtypes: float64(1), object(1)\n",
      "memory usage: 12.2+ KB\n",
      "------------------------------------------\n",
      "<class 'pandas.core.frame.DataFrame'>\n",
      "RangeIndex: 775 entries, 0 to 774\n",
      "Data columns (total 2 columns):\n",
      " #   Column  Non-Null Count  Dtype  \n",
      "---  ------  --------------  -----  \n",
      " 0   DATE    775 non-null    object \n",
      " 1   POPTHM  775 non-null    float64\n",
      "dtypes: float64(1), object(1)\n",
      "memory usage: 12.2+ KB\n",
      "------------------------------------------\n",
      "<class 'pandas.core.frame.DataFrame'>\n",
      "RangeIndex: 234 entries, 0 to 233\n",
      "Data columns (total 2 columns):\n",
      " #   Column       Non-Null Count  Dtype  \n",
      "---  ------       --------------  -----  \n",
      " 0   DATE         234 non-null    object \n",
      " 1   RHORUSQ156N  234 non-null    float64\n",
      "dtypes: float64(1), object(1)\n",
      "memory usage: 3.8+ KB\n",
      "------------------------------------------\n",
      "<class 'pandas.core.frame.DataFrame'>\n",
      "RangeIndex: 764 entries, 0 to 763\n",
      "Data columns (total 2 columns):\n",
      " #   Column  Non-Null Count  Dtype  \n",
      "---  ------  --------------  -----  \n",
      " 0   DATE    764 non-null    object \n",
      " 1   PERMIT  764 non-null    float64\n",
      "dtypes: float64(1), object(1)\n",
      "memory usage: 12.1+ KB\n",
      "------------------------------------------\n",
      "<class 'pandas.core.frame.DataFrame'>\n",
      "RangeIndex: 776 entries, 0 to 775\n",
      "Data columns (total 2 columns):\n",
      " #   Column  Non-Null Count  Dtype  \n",
      "---  ------  --------------  -----  \n",
      " 0   DATE    776 non-null    object \n",
      " 1   HOUST   776 non-null    float64\n",
      "dtypes: float64(1), object(1)\n",
      "memory usage: 12.2+ KB\n",
      "------------------------------------------\n",
      "<class 'pandas.core.frame.DataFrame'>\n",
      "RangeIndex: 830 entries, 0 to 829\n",
      "Data columns (total 2 columns):\n",
      " #   Column    Non-Null Count  Dtype  \n",
      "---  ------    --------------  -----  \n",
      " 0   DATE      830 non-null    object \n",
      " 1   FEDFUNDS  830 non-null    float64\n",
      "dtypes: float64(1), object(1)\n",
      "memory usage: 13.1+ KB\n"
     ]
    }
   ],
   "source": [
    "df_hp.info()\n",
    "print(\"------------------------------------------\")\n",
    "df_unemp.info()\n",
    "print(\"------------------------------------------\")\n",
    "df_gdp.info()\n",
    "print(\"------------------------------------------\")\n",
    "df_rdpi.info()\n",
    "print(\"------------------------------------------\")\n",
    "df_population.info()\n",
    "print(\"------------------------------------------\")\n",
    "df_homeown.info()\n",
    "print(\"------------------------------------------\")\n",
    "df_hpermit.info()\n",
    "print(\"------------------------------------------\")\n",
    "df_private_owned_housing.info()\n",
    "print(\"------------------------------------------\")\n",
    "df_fed_funds.info()"
   ]
  },
  {
   "cell_type": "code",
   "execution_count": 23,
   "id": "f884dd72",
   "metadata": {},
   "outputs": [],
   "source": [
    "#Selecting data post SEPTEMBER 2003\n",
    "df_hp[\"DATE\"] = pd.to_datetime(df_hp[\"DATE\"])\n",
    "df_hp= df_hp[df_hp[\"DATE\"] >= \"2003-04-01\"]\n",
    "df_unemp[\"DATE\"] = pd.to_datetime(df_unemp[\"DATE\"])\n",
    "df_unemp= df_unemp[df_unemp[\"DATE\"] >= \"2003-04-01\"]\n",
    "df_gdp[\"DATE\"] = pd.to_datetime(df_gdp[\"DATE\"])\n",
    "df_gdp= df_gdp[df_gdp[\"DATE\"] >= \"2003-04-01\"]\n",
    "df_rdpi[\"DATE\"] = pd.to_datetime(df_rdpi[\"DATE\"])\n",
    "df_rdpi= df_rdpi[df_rdpi[\"DATE\"] >= \"2003-04-01\"]\n",
    "df_population[\"DATE\"] = pd.to_datetime(df_population[\"DATE\"])\n",
    "df_population= df_population[df_population[\"DATE\"] >= \"2003-04-01\"]\n",
    "df_homeown[\"DATE\"] = pd.to_datetime(df_homeown[\"DATE\"])\n",
    "df_homeown= df_homeown[df_homeown[\"DATE\"] >= \"2003-04-01\"]\n",
    "df_hpermit[\"DATE\"] = pd.to_datetime(df_hpermit[\"DATE\"])\n",
    "df_hpermit= df_hpermit[df_hpermit[\"DATE\"] >= \"2003-04-01\"]\n",
    "df_private_owned_housing[\"DATE\"] = pd.to_datetime(df_private_owned_housing[\"DATE\"])\n",
    "df_private_owned_housing= df_private_owned_housing[df_private_owned_housing[\"DATE\"] >= \"2003-04-01\"]\n",
    "df_fed_funds[\"DATE\"] = pd.to_datetime(df_fed_funds[\"DATE\"])\n",
    "df_fed_funds= df_fed_funds[df_fed_funds[\"DATE\"] >= \"2003-04-01\"]"
   ]
  },
  {
   "cell_type": "code",
   "execution_count": 24,
   "id": "5461fdae",
   "metadata": {},
   "outputs": [
    {
     "name": "stdout",
     "output_type": "stream",
     "text": [
      "<class 'pandas.core.frame.DataFrame'>\n",
      "Int64Index: 243 entries, 195 to 437\n",
      "Data columns (total 2 columns):\n",
      " #   Column     Non-Null Count  Dtype         \n",
      "---  ------     --------------  -----         \n",
      " 0   DATE       243 non-null    datetime64[ns]\n",
      " 1   CSUSHPISA  243 non-null    float64       \n",
      "dtypes: datetime64[ns](1), float64(1)\n",
      "memory usage: 5.7 KB\n",
      "------------------------------------------\n",
      "<class 'pandas.core.frame.DataFrame'>\n",
      "Int64Index: 245 entries, 663 to 907\n",
      "Data columns (total 2 columns):\n",
      " #   Column  Non-Null Count  Dtype         \n",
      "---  ------  --------------  -----         \n",
      " 0   DATE    245 non-null    datetime64[ns]\n",
      " 1   UNRATE  245 non-null    float64       \n",
      "dtypes: datetime64[ns](1), float64(1)\n",
      "memory usage: 5.7 KB\n",
      "------------------------------------------\n",
      "<class 'pandas.core.frame.DataFrame'>\n",
      "Int64Index: 81 entries, 225 to 305\n",
      "Data columns (total 2 columns):\n",
      " #   Column  Non-Null Count  Dtype         \n",
      "---  ------  --------------  -----         \n",
      " 0   DATE    81 non-null     datetime64[ns]\n",
      " 1   GDP     81 non-null     float64       \n",
      "dtypes: datetime64[ns](1), float64(1)\n",
      "memory usage: 1.9 KB\n",
      "------------------------------------------\n",
      "<class 'pandas.core.frame.DataFrame'>\n",
      "Int64Index: 244 entries, 531 to 774\n",
      "Data columns (total 2 columns):\n",
      " #   Column   Non-Null Count  Dtype         \n",
      "---  ------   --------------  -----         \n",
      " 0   DATE     244 non-null    datetime64[ns]\n",
      " 1   DSPIC96  244 non-null    float64       \n",
      "dtypes: datetime64[ns](1), float64(1)\n",
      "memory usage: 5.7 KB\n",
      "------------------------------------------\n",
      "<class 'pandas.core.frame.DataFrame'>\n",
      "Int64Index: 244 entries, 531 to 774\n",
      "Data columns (total 2 columns):\n",
      " #   Column  Non-Null Count  Dtype         \n",
      "---  ------  --------------  -----         \n",
      " 0   DATE    244 non-null    datetime64[ns]\n",
      " 1   POPTHM  244 non-null    float64       \n",
      "dtypes: datetime64[ns](1), float64(1)\n",
      "memory usage: 5.7 KB\n",
      "------------------------------------------\n",
      "<class 'pandas.core.frame.DataFrame'>\n",
      "Int64Index: 81 entries, 153 to 233\n",
      "Data columns (total 2 columns):\n",
      " #   Column       Non-Null Count  Dtype         \n",
      "---  ------       --------------  -----         \n",
      " 0   DATE         81 non-null     datetime64[ns]\n",
      " 1   RHORUSQ156N  81 non-null     float64       \n",
      "dtypes: datetime64[ns](1), float64(1)\n",
      "memory usage: 1.9 KB\n",
      "------------------------------------------\n",
      "<class 'pandas.core.frame.DataFrame'>\n",
      "Int64Index: 245 entries, 519 to 763\n",
      "Data columns (total 2 columns):\n",
      " #   Column  Non-Null Count  Dtype         \n",
      "---  ------  --------------  -----         \n",
      " 0   DATE    245 non-null    datetime64[ns]\n",
      " 1   PERMIT  245 non-null    float64       \n",
      "dtypes: datetime64[ns](1), float64(1)\n",
      "memory usage: 5.7 KB\n",
      "------------------------------------------\n",
      "<class 'pandas.core.frame.DataFrame'>\n",
      "Int64Index: 245 entries, 531 to 775\n",
      "Data columns (total 2 columns):\n",
      " #   Column  Non-Null Count  Dtype         \n",
      "---  ------  --------------  -----         \n",
      " 0   DATE    245 non-null    datetime64[ns]\n",
      " 1   HOUST   245 non-null    float64       \n",
      "dtypes: datetime64[ns](1), float64(1)\n",
      "memory usage: 5.7 KB\n",
      "------------------------------------------\n",
      "<class 'pandas.core.frame.DataFrame'>\n",
      "Int64Index: 245 entries, 585 to 829\n",
      "Data columns (total 2 columns):\n",
      " #   Column    Non-Null Count  Dtype         \n",
      "---  ------    --------------  -----         \n",
      " 0   DATE      245 non-null    datetime64[ns]\n",
      " 1   FEDFUNDS  245 non-null    float64       \n",
      "dtypes: datetime64[ns](1), float64(1)\n",
      "memory usage: 5.7 KB\n"
     ]
    }
   ],
   "source": [
    "df_hp.info()\n",
    "print(\"------------------------------------------\")\n",
    "df_unemp.info()\n",
    "print(\"------------------------------------------\")\n",
    "df_gdp.info()\n",
    "print(\"------------------------------------------\")\n",
    "df_rdpi.info()\n",
    "print(\"------------------------------------------\")\n",
    "df_population.info()\n",
    "print(\"------------------------------------------\")\n",
    "df_homeown.info()\n",
    "print(\"------------------------------------------\")\n",
    "df_hpermit.info()\n",
    "print(\"------------------------------------------\")\n",
    "df_private_owned_housing.info()\n",
    "print(\"------------------------------------------\")\n",
    "df_fed_funds.info()"
   ]
  },
  {
   "cell_type": "code",
   "execution_count": 25,
   "id": "90eb24ac",
   "metadata": {},
   "outputs": [
    {
     "data": {
      "text/html": [
       "<div>\n",
       "<style scoped>\n",
       "    .dataframe tbody tr th:only-of-type {\n",
       "        vertical-align: middle;\n",
       "    }\n",
       "\n",
       "    .dataframe tbody tr th {\n",
       "        vertical-align: top;\n",
       "    }\n",
       "\n",
       "    .dataframe thead th {\n",
       "        text-align: right;\n",
       "    }\n",
       "</style>\n",
       "<table border=\"1\" class=\"dataframe\">\n",
       "  <thead>\n",
       "    <tr style=\"text-align: right;\">\n",
       "      <th></th>\n",
       "      <th>DATE</th>\n",
       "      <th>GDP</th>\n",
       "    </tr>\n",
       "  </thead>\n",
       "  <tbody>\n",
       "    <tr>\n",
       "      <th>225</th>\n",
       "      <td>2003-04-01</td>\n",
       "      <td>11312.766</td>\n",
       "    </tr>\n",
       "    <tr>\n",
       "      <th>226</th>\n",
       "      <td>2003-07-01</td>\n",
       "      <td>11566.669</td>\n",
       "    </tr>\n",
       "    <tr>\n",
       "      <th>227</th>\n",
       "      <td>2003-10-01</td>\n",
       "      <td>11772.234</td>\n",
       "    </tr>\n",
       "    <tr>\n",
       "      <th>228</th>\n",
       "      <td>2004-01-01</td>\n",
       "      <td>11923.447</td>\n",
       "    </tr>\n",
       "    <tr>\n",
       "      <th>229</th>\n",
       "      <td>2004-04-01</td>\n",
       "      <td>12112.815</td>\n",
       "    </tr>\n",
       "  </tbody>\n",
       "</table>\n",
       "</div>"
      ],
      "text/plain": [
       "          DATE        GDP\n",
       "225 2003-04-01  11312.766\n",
       "226 2003-07-01  11566.669\n",
       "227 2003-10-01  11772.234\n",
       "228 2004-01-01  11923.447\n",
       "229 2004-04-01  12112.815"
      ]
     },
     "execution_count": 25,
     "metadata": {},
     "output_type": "execute_result"
    }
   ],
   "source": [
    "df_gdp.head()"
   ]
  },
  {
   "cell_type": "code",
   "execution_count": 26,
   "id": "005a3d9a",
   "metadata": {},
   "outputs": [],
   "source": [
    "df_gdp['DATE'] = df_gdp['DATE'].dt.to_period('M')\n",
    "df_gdp.set_index('DATE', inplace=True)\n",
    "df_monthly = df_gdp.resample('M').interpolate()\n",
    "\n",
    "# Reset the index\n",
    "df_monthly.reset_index(inplace=True)"
   ]
  },
  {
   "cell_type": "code",
   "execution_count": 27,
   "id": "6b3e2952",
   "metadata": {},
   "outputs": [
    {
     "data": {
      "text/html": [
       "<div>\n",
       "<style scoped>\n",
       "    .dataframe tbody tr th:only-of-type {\n",
       "        vertical-align: middle;\n",
       "    }\n",
       "\n",
       "    .dataframe tbody tr th {\n",
       "        vertical-align: top;\n",
       "    }\n",
       "\n",
       "    .dataframe thead th {\n",
       "        text-align: right;\n",
       "    }\n",
       "</style>\n",
       "<table border=\"1\" class=\"dataframe\">\n",
       "  <thead>\n",
       "    <tr style=\"text-align: right;\">\n",
       "      <th></th>\n",
       "      <th>DATE</th>\n",
       "      <th>GDP</th>\n",
       "    </tr>\n",
       "  </thead>\n",
       "  <tbody>\n",
       "    <tr>\n",
       "      <th>0</th>\n",
       "      <td>2003-04</td>\n",
       "      <td>11312.766000</td>\n",
       "    </tr>\n",
       "    <tr>\n",
       "      <th>1</th>\n",
       "      <td>2003-05</td>\n",
       "      <td>11397.400333</td>\n",
       "    </tr>\n",
       "    <tr>\n",
       "      <th>2</th>\n",
       "      <td>2003-06</td>\n",
       "      <td>11482.034667</td>\n",
       "    </tr>\n",
       "    <tr>\n",
       "      <th>3</th>\n",
       "      <td>2003-07</td>\n",
       "      <td>11566.669000</td>\n",
       "    </tr>\n",
       "    <tr>\n",
       "      <th>4</th>\n",
       "      <td>2003-08</td>\n",
       "      <td>11635.190667</td>\n",
       "    </tr>\n",
       "  </tbody>\n",
       "</table>\n",
       "</div>"
      ],
      "text/plain": [
       "      DATE           GDP\n",
       "0  2003-04  11312.766000\n",
       "1  2003-05  11397.400333\n",
       "2  2003-06  11482.034667\n",
       "3  2003-07  11566.669000\n",
       "4  2003-08  11635.190667"
      ]
     },
     "execution_count": 27,
     "metadata": {},
     "output_type": "execute_result"
    }
   ],
   "source": [
    "df_monthly.head()"
   ]
  },
  {
   "cell_type": "code",
   "execution_count": 28,
   "id": "bc37be7b",
   "metadata": {},
   "outputs": [],
   "source": [
    "df_monthly['YEAR'] = df_monthly['DATE'].dt.year\n",
    "df_monthly['MONTH'] = df_monthly['DATE'].dt.month"
   ]
  },
  {
   "cell_type": "code",
   "execution_count": 29,
   "id": "0bb89e70",
   "metadata": {},
   "outputs": [
    {
     "data": {
      "text/html": [
       "<div>\n",
       "<style scoped>\n",
       "    .dataframe tbody tr th:only-of-type {\n",
       "        vertical-align: middle;\n",
       "    }\n",
       "\n",
       "    .dataframe tbody tr th {\n",
       "        vertical-align: top;\n",
       "    }\n",
       "\n",
       "    .dataframe thead th {\n",
       "        text-align: right;\n",
       "    }\n",
       "</style>\n",
       "<table border=\"1\" class=\"dataframe\">\n",
       "  <thead>\n",
       "    <tr style=\"text-align: right;\">\n",
       "      <th></th>\n",
       "      <th>DATE</th>\n",
       "      <th>GDP</th>\n",
       "      <th>YEAR</th>\n",
       "      <th>MONTH</th>\n",
       "    </tr>\n",
       "  </thead>\n",
       "  <tbody>\n",
       "    <tr>\n",
       "      <th>0</th>\n",
       "      <td>2003-04</td>\n",
       "      <td>11312.766000</td>\n",
       "      <td>2003</td>\n",
       "      <td>4</td>\n",
       "    </tr>\n",
       "    <tr>\n",
       "      <th>1</th>\n",
       "      <td>2003-05</td>\n",
       "      <td>11397.400333</td>\n",
       "      <td>2003</td>\n",
       "      <td>5</td>\n",
       "    </tr>\n",
       "    <tr>\n",
       "      <th>2</th>\n",
       "      <td>2003-06</td>\n",
       "      <td>11482.034667</td>\n",
       "      <td>2003</td>\n",
       "      <td>6</td>\n",
       "    </tr>\n",
       "    <tr>\n",
       "      <th>3</th>\n",
       "      <td>2003-07</td>\n",
       "      <td>11566.669000</td>\n",
       "      <td>2003</td>\n",
       "      <td>7</td>\n",
       "    </tr>\n",
       "    <tr>\n",
       "      <th>4</th>\n",
       "      <td>2003-08</td>\n",
       "      <td>11635.190667</td>\n",
       "      <td>2003</td>\n",
       "      <td>8</td>\n",
       "    </tr>\n",
       "  </tbody>\n",
       "</table>\n",
       "</div>"
      ],
      "text/plain": [
       "      DATE           GDP  YEAR  MONTH\n",
       "0  2003-04  11312.766000  2003      4\n",
       "1  2003-05  11397.400333  2003      5\n",
       "2  2003-06  11482.034667  2003      6\n",
       "3  2003-07  11566.669000  2003      7\n",
       "4  2003-08  11635.190667  2003      8"
      ]
     },
     "execution_count": 29,
     "metadata": {},
     "output_type": "execute_result"
    }
   ],
   "source": [
    "df_monthly.head()"
   ]
  },
  {
   "cell_type": "code",
   "execution_count": 30,
   "id": "cc9b4ead",
   "metadata": {},
   "outputs": [],
   "source": [
    "df_list = list([df_hp, df_unemp, df_rdpi, df_population, df_hpermit, df_private_owned_housing, df_fed_funds])"
   ]
  },
  {
   "cell_type": "code",
   "execution_count": 31,
   "id": "85089862",
   "metadata": {},
   "outputs": [],
   "source": [
    "# Initialize the merged DataFrame with the first DataFrame in the list\n",
    "merged_df = df_list[0]\n",
    "\n",
    "# Iterate over the remaining DataFrames in the list\n",
    "for df in df_list[1:]:\n",
    "    merged_df = pd.merge(merged_df, df, on=\"DATE\")"
   ]
  },
  {
   "cell_type": "code",
   "execution_count": 32,
   "id": "b2106f1b",
   "metadata": {},
   "outputs": [
    {
     "data": {
      "text/html": [
       "<div>\n",
       "<style scoped>\n",
       "    .dataframe tbody tr th:only-of-type {\n",
       "        vertical-align: middle;\n",
       "    }\n",
       "\n",
       "    .dataframe tbody tr th {\n",
       "        vertical-align: top;\n",
       "    }\n",
       "\n",
       "    .dataframe thead th {\n",
       "        text-align: right;\n",
       "    }\n",
       "</style>\n",
       "<table border=\"1\" class=\"dataframe\">\n",
       "  <thead>\n",
       "    <tr style=\"text-align: right;\">\n",
       "      <th></th>\n",
       "      <th>DATE</th>\n",
       "      <th>CSUSHPISA</th>\n",
       "      <th>UNRATE</th>\n",
       "      <th>DSPIC96</th>\n",
       "      <th>POPTHM</th>\n",
       "      <th>PERMIT</th>\n",
       "      <th>HOUST</th>\n",
       "      <th>FEDFUNDS</th>\n",
       "    </tr>\n",
       "  </thead>\n",
       "  <tbody>\n",
       "    <tr>\n",
       "      <th>0</th>\n",
       "      <td>2003-04-01</td>\n",
       "      <td>130.884</td>\n",
       "      <td>6.0</td>\n",
       "      <td>10181.4</td>\n",
       "      <td>290024.0</td>\n",
       "      <td>1803.0</td>\n",
       "      <td>1643.0</td>\n",
       "      <td>1.26</td>\n",
       "    </tr>\n",
       "    <tr>\n",
       "      <th>1</th>\n",
       "      <td>2003-05-01</td>\n",
       "      <td>131.734</td>\n",
       "      <td>6.1</td>\n",
       "      <td>10261.2</td>\n",
       "      <td>290250.0</td>\n",
       "      <td>1835.0</td>\n",
       "      <td>1751.0</td>\n",
       "      <td>1.26</td>\n",
       "    </tr>\n",
       "    <tr>\n",
       "      <th>2</th>\n",
       "      <td>2003-06-01</td>\n",
       "      <td>132.649</td>\n",
       "      <td>6.3</td>\n",
       "      <td>10291.2</td>\n",
       "      <td>290484.0</td>\n",
       "      <td>1875.0</td>\n",
       "      <td>1867.0</td>\n",
       "      <td>1.22</td>\n",
       "    </tr>\n",
       "    <tr>\n",
       "      <th>3</th>\n",
       "      <td>2003-07-01</td>\n",
       "      <td>133.777</td>\n",
       "      <td>6.2</td>\n",
       "      <td>10415.5</td>\n",
       "      <td>290726.0</td>\n",
       "      <td>1885.0</td>\n",
       "      <td>1897.0</td>\n",
       "      <td>1.01</td>\n",
       "    </tr>\n",
       "    <tr>\n",
       "      <th>4</th>\n",
       "      <td>2003-08-01</td>\n",
       "      <td>134.968</td>\n",
       "      <td>6.1</td>\n",
       "      <td>10487.7</td>\n",
       "      <td>290974.0</td>\n",
       "      <td>1966.0</td>\n",
       "      <td>1833.0</td>\n",
       "      <td>1.03</td>\n",
       "    </tr>\n",
       "  </tbody>\n",
       "</table>\n",
       "</div>"
      ],
      "text/plain": [
       "        DATE  CSUSHPISA  UNRATE  DSPIC96    POPTHM  PERMIT   HOUST  FEDFUNDS\n",
       "0 2003-04-01    130.884     6.0  10181.4  290024.0  1803.0  1643.0      1.26\n",
       "1 2003-05-01    131.734     6.1  10261.2  290250.0  1835.0  1751.0      1.26\n",
       "2 2003-06-01    132.649     6.3  10291.2  290484.0  1875.0  1867.0      1.22\n",
       "3 2003-07-01    133.777     6.2  10415.5  290726.0  1885.0  1897.0      1.01\n",
       "4 2003-08-01    134.968     6.1  10487.7  290974.0  1966.0  1833.0      1.03"
      ]
     },
     "execution_count": 32,
     "metadata": {},
     "output_type": "execute_result"
    }
   ],
   "source": [
    "merged_df.head()"
   ]
  },
  {
   "cell_type": "code",
   "execution_count": 33,
   "id": "59c25c46",
   "metadata": {},
   "outputs": [
    {
     "data": {
      "text/plain": [
       "(243, 8)"
      ]
     },
     "execution_count": 33,
     "metadata": {},
     "output_type": "execute_result"
    }
   ],
   "source": [
    "merged_df.shape"
   ]
  },
  {
   "cell_type": "code",
   "execution_count": 34,
   "id": "5cea63e7",
   "metadata": {},
   "outputs": [],
   "source": [
    "# Creating \"Year\" and \"Month\" columns\n",
    "merged_df[\"YEAR\"] = pd.DatetimeIndex(merged_df[\"DATE\"]).year\n",
    "merged_df[\"MONTH\"] = pd.DatetimeIndex(merged_df[\"DATE\"]).month"
   ]
  },
  {
   "cell_type": "code",
   "execution_count": 35,
   "id": "c5295bfa",
   "metadata": {},
   "outputs": [
    {
     "data": {
      "text/html": [
       "<div>\n",
       "<style scoped>\n",
       "    .dataframe tbody tr th:only-of-type {\n",
       "        vertical-align: middle;\n",
       "    }\n",
       "\n",
       "    .dataframe tbody tr th {\n",
       "        vertical-align: top;\n",
       "    }\n",
       "\n",
       "    .dataframe thead th {\n",
       "        text-align: right;\n",
       "    }\n",
       "</style>\n",
       "<table border=\"1\" class=\"dataframe\">\n",
       "  <thead>\n",
       "    <tr style=\"text-align: right;\">\n",
       "      <th></th>\n",
       "      <th>DATE</th>\n",
       "      <th>CSUSHPISA</th>\n",
       "      <th>UNRATE</th>\n",
       "      <th>DSPIC96</th>\n",
       "      <th>POPTHM</th>\n",
       "      <th>PERMIT</th>\n",
       "      <th>HOUST</th>\n",
       "      <th>FEDFUNDS</th>\n",
       "      <th>YEAR</th>\n",
       "      <th>MONTH</th>\n",
       "    </tr>\n",
       "  </thead>\n",
       "  <tbody>\n",
       "    <tr>\n",
       "      <th>0</th>\n",
       "      <td>2003-04-01</td>\n",
       "      <td>130.884</td>\n",
       "      <td>6.0</td>\n",
       "      <td>10181.4</td>\n",
       "      <td>290024.0</td>\n",
       "      <td>1803.0</td>\n",
       "      <td>1643.0</td>\n",
       "      <td>1.26</td>\n",
       "      <td>2003</td>\n",
       "      <td>4</td>\n",
       "    </tr>\n",
       "    <tr>\n",
       "      <th>1</th>\n",
       "      <td>2003-05-01</td>\n",
       "      <td>131.734</td>\n",
       "      <td>6.1</td>\n",
       "      <td>10261.2</td>\n",
       "      <td>290250.0</td>\n",
       "      <td>1835.0</td>\n",
       "      <td>1751.0</td>\n",
       "      <td>1.26</td>\n",
       "      <td>2003</td>\n",
       "      <td>5</td>\n",
       "    </tr>\n",
       "    <tr>\n",
       "      <th>2</th>\n",
       "      <td>2003-06-01</td>\n",
       "      <td>132.649</td>\n",
       "      <td>6.3</td>\n",
       "      <td>10291.2</td>\n",
       "      <td>290484.0</td>\n",
       "      <td>1875.0</td>\n",
       "      <td>1867.0</td>\n",
       "      <td>1.22</td>\n",
       "      <td>2003</td>\n",
       "      <td>6</td>\n",
       "    </tr>\n",
       "    <tr>\n",
       "      <th>3</th>\n",
       "      <td>2003-07-01</td>\n",
       "      <td>133.777</td>\n",
       "      <td>6.2</td>\n",
       "      <td>10415.5</td>\n",
       "      <td>290726.0</td>\n",
       "      <td>1885.0</td>\n",
       "      <td>1897.0</td>\n",
       "      <td>1.01</td>\n",
       "      <td>2003</td>\n",
       "      <td>7</td>\n",
       "    </tr>\n",
       "    <tr>\n",
       "      <th>4</th>\n",
       "      <td>2003-08-01</td>\n",
       "      <td>134.968</td>\n",
       "      <td>6.1</td>\n",
       "      <td>10487.7</td>\n",
       "      <td>290974.0</td>\n",
       "      <td>1966.0</td>\n",
       "      <td>1833.0</td>\n",
       "      <td>1.03</td>\n",
       "      <td>2003</td>\n",
       "      <td>8</td>\n",
       "    </tr>\n",
       "  </tbody>\n",
       "</table>\n",
       "</div>"
      ],
      "text/plain": [
       "        DATE  CSUSHPISA  UNRATE  DSPIC96    POPTHM  PERMIT   HOUST  FEDFUNDS  \\\n",
       "0 2003-04-01    130.884     6.0  10181.4  290024.0  1803.0  1643.0      1.26   \n",
       "1 2003-05-01    131.734     6.1  10261.2  290250.0  1835.0  1751.0      1.26   \n",
       "2 2003-06-01    132.649     6.3  10291.2  290484.0  1875.0  1867.0      1.22   \n",
       "3 2003-07-01    133.777     6.2  10415.5  290726.0  1885.0  1897.0      1.01   \n",
       "4 2003-08-01    134.968     6.1  10487.7  290974.0  1966.0  1833.0      1.03   \n",
       "\n",
       "   YEAR  MONTH  \n",
       "0  2003      4  \n",
       "1  2003      5  \n",
       "2  2003      6  \n",
       "3  2003      7  \n",
       "4  2003      8  "
      ]
     },
     "execution_count": 35,
     "metadata": {},
     "output_type": "execute_result"
    }
   ],
   "source": [
    "merged_df.head()"
   ]
  },
  {
   "cell_type": "code",
   "execution_count": 36,
   "id": "6328b6fe",
   "metadata": {},
   "outputs": [],
   "source": [
    "merged_df_gdp = pd.merge(merged_df, df_monthly, on=[\"YEAR\", \"MONTH\"])"
   ]
  },
  {
   "cell_type": "code",
   "execution_count": 37,
   "id": "143ecdc2",
   "metadata": {},
   "outputs": [
    {
     "data": {
      "text/html": [
       "<div>\n",
       "<style scoped>\n",
       "    .dataframe tbody tr th:only-of-type {\n",
       "        vertical-align: middle;\n",
       "    }\n",
       "\n",
       "    .dataframe tbody tr th {\n",
       "        vertical-align: top;\n",
       "    }\n",
       "\n",
       "    .dataframe thead th {\n",
       "        text-align: right;\n",
       "    }\n",
       "</style>\n",
       "<table border=\"1\" class=\"dataframe\">\n",
       "  <thead>\n",
       "    <tr style=\"text-align: right;\">\n",
       "      <th></th>\n",
       "      <th>DATE_x</th>\n",
       "      <th>CSUSHPISA</th>\n",
       "      <th>UNRATE</th>\n",
       "      <th>DSPIC96</th>\n",
       "      <th>POPTHM</th>\n",
       "      <th>PERMIT</th>\n",
       "      <th>HOUST</th>\n",
       "      <th>FEDFUNDS</th>\n",
       "      <th>YEAR</th>\n",
       "      <th>MONTH</th>\n",
       "      <th>DATE_y</th>\n",
       "      <th>GDP</th>\n",
       "    </tr>\n",
       "  </thead>\n",
       "  <tbody>\n",
       "    <tr>\n",
       "      <th>0</th>\n",
       "      <td>2003-04-01</td>\n",
       "      <td>130.884</td>\n",
       "      <td>6.0</td>\n",
       "      <td>10181.4</td>\n",
       "      <td>290024.0</td>\n",
       "      <td>1803.0</td>\n",
       "      <td>1643.0</td>\n",
       "      <td>1.26</td>\n",
       "      <td>2003</td>\n",
       "      <td>4</td>\n",
       "      <td>2003-04</td>\n",
       "      <td>11312.766000</td>\n",
       "    </tr>\n",
       "    <tr>\n",
       "      <th>1</th>\n",
       "      <td>2003-05-01</td>\n",
       "      <td>131.734</td>\n",
       "      <td>6.1</td>\n",
       "      <td>10261.2</td>\n",
       "      <td>290250.0</td>\n",
       "      <td>1835.0</td>\n",
       "      <td>1751.0</td>\n",
       "      <td>1.26</td>\n",
       "      <td>2003</td>\n",
       "      <td>5</td>\n",
       "      <td>2003-05</td>\n",
       "      <td>11397.400333</td>\n",
       "    </tr>\n",
       "    <tr>\n",
       "      <th>2</th>\n",
       "      <td>2003-06-01</td>\n",
       "      <td>132.649</td>\n",
       "      <td>6.3</td>\n",
       "      <td>10291.2</td>\n",
       "      <td>290484.0</td>\n",
       "      <td>1875.0</td>\n",
       "      <td>1867.0</td>\n",
       "      <td>1.22</td>\n",
       "      <td>2003</td>\n",
       "      <td>6</td>\n",
       "      <td>2003-06</td>\n",
       "      <td>11482.034667</td>\n",
       "    </tr>\n",
       "    <tr>\n",
       "      <th>3</th>\n",
       "      <td>2003-07-01</td>\n",
       "      <td>133.777</td>\n",
       "      <td>6.2</td>\n",
       "      <td>10415.5</td>\n",
       "      <td>290726.0</td>\n",
       "      <td>1885.0</td>\n",
       "      <td>1897.0</td>\n",
       "      <td>1.01</td>\n",
       "      <td>2003</td>\n",
       "      <td>7</td>\n",
       "      <td>2003-07</td>\n",
       "      <td>11566.669000</td>\n",
       "    </tr>\n",
       "    <tr>\n",
       "      <th>4</th>\n",
       "      <td>2003-08-01</td>\n",
       "      <td>134.968</td>\n",
       "      <td>6.1</td>\n",
       "      <td>10487.7</td>\n",
       "      <td>290974.0</td>\n",
       "      <td>1966.0</td>\n",
       "      <td>1833.0</td>\n",
       "      <td>1.03</td>\n",
       "      <td>2003</td>\n",
       "      <td>8</td>\n",
       "      <td>2003-08</td>\n",
       "      <td>11635.190667</td>\n",
       "    </tr>\n",
       "  </tbody>\n",
       "</table>\n",
       "</div>"
      ],
      "text/plain": [
       "      DATE_x  CSUSHPISA  UNRATE  DSPIC96    POPTHM  PERMIT   HOUST  FEDFUNDS  \\\n",
       "0 2003-04-01    130.884     6.0  10181.4  290024.0  1803.0  1643.0      1.26   \n",
       "1 2003-05-01    131.734     6.1  10261.2  290250.0  1835.0  1751.0      1.26   \n",
       "2 2003-06-01    132.649     6.3  10291.2  290484.0  1875.0  1867.0      1.22   \n",
       "3 2003-07-01    133.777     6.2  10415.5  290726.0  1885.0  1897.0      1.01   \n",
       "4 2003-08-01    134.968     6.1  10487.7  290974.0  1966.0  1833.0      1.03   \n",
       "\n",
       "   YEAR  MONTH   DATE_y           GDP  \n",
       "0  2003      4  2003-04  11312.766000  \n",
       "1  2003      5  2003-05  11397.400333  \n",
       "2  2003      6  2003-06  11482.034667  \n",
       "3  2003      7  2003-07  11566.669000  \n",
       "4  2003      8  2003-08  11635.190667  "
      ]
     },
     "execution_count": 37,
     "metadata": {},
     "output_type": "execute_result"
    }
   ],
   "source": [
    "merged_df_gdp.head()"
   ]
  },
  {
   "cell_type": "code",
   "execution_count": 38,
   "id": "c25bbf22",
   "metadata": {},
   "outputs": [
    {
     "data": {
      "text/html": [
       "<div>\n",
       "<style scoped>\n",
       "    .dataframe tbody tr th:only-of-type {\n",
       "        vertical-align: middle;\n",
       "    }\n",
       "\n",
       "    .dataframe tbody tr th {\n",
       "        vertical-align: top;\n",
       "    }\n",
       "\n",
       "    .dataframe thead th {\n",
       "        text-align: right;\n",
       "    }\n",
       "</style>\n",
       "<table border=\"1\" class=\"dataframe\">\n",
       "  <thead>\n",
       "    <tr style=\"text-align: right;\">\n",
       "      <th></th>\n",
       "      <th>DATE_x</th>\n",
       "      <th>CSUSHPISA</th>\n",
       "      <th>UNRATE</th>\n",
       "      <th>DSPIC96</th>\n",
       "      <th>POPTHM</th>\n",
       "      <th>PERMIT</th>\n",
       "      <th>HOUST</th>\n",
       "      <th>FEDFUNDS</th>\n",
       "      <th>YEAR</th>\n",
       "      <th>MONTH</th>\n",
       "      <th>DATE_y</th>\n",
       "      <th>GDP</th>\n",
       "    </tr>\n",
       "  </thead>\n",
       "  <tbody>\n",
       "    <tr>\n",
       "      <th>236</th>\n",
       "      <td>2022-12-01</td>\n",
       "      <td>297.189</td>\n",
       "      <td>3.5</td>\n",
       "      <td>15250.6</td>\n",
       "      <td>334420.0</td>\n",
       "      <td>1409.0</td>\n",
       "      <td>1357.0</td>\n",
       "      <td>4.10</td>\n",
       "      <td>2022</td>\n",
       "      <td>12</td>\n",
       "      <td>2022-12</td>\n",
       "      <td>26399.180000</td>\n",
       "    </tr>\n",
       "    <tr>\n",
       "      <th>237</th>\n",
       "      <td>2023-01-01</td>\n",
       "      <td>296.601</td>\n",
       "      <td>3.4</td>\n",
       "      <td>15504.7</td>\n",
       "      <td>334533.0</td>\n",
       "      <td>1354.0</td>\n",
       "      <td>1340.0</td>\n",
       "      <td>4.33</td>\n",
       "      <td>2023</td>\n",
       "      <td>1</td>\n",
       "      <td>2023-01</td>\n",
       "      <td>26529.774000</td>\n",
       "    </tr>\n",
       "    <tr>\n",
       "      <th>238</th>\n",
       "      <td>2023-02-01</td>\n",
       "      <td>296.958</td>\n",
       "      <td>3.6</td>\n",
       "      <td>15545.3</td>\n",
       "      <td>334637.0</td>\n",
       "      <td>1482.0</td>\n",
       "      <td>1436.0</td>\n",
       "      <td>4.57</td>\n",
       "      <td>2023</td>\n",
       "      <td>2</td>\n",
       "      <td>2023-02</td>\n",
       "      <td>26619.384333</td>\n",
       "    </tr>\n",
       "    <tr>\n",
       "      <th>239</th>\n",
       "      <td>2023-03-01</td>\n",
       "      <td>298.210</td>\n",
       "      <td>3.5</td>\n",
       "      <td>15598.6</td>\n",
       "      <td>334753.0</td>\n",
       "      <td>1437.0</td>\n",
       "      <td>1380.0</td>\n",
       "      <td>4.65</td>\n",
       "      <td>2023</td>\n",
       "      <td>3</td>\n",
       "      <td>2023-03</td>\n",
       "      <td>26708.994667</td>\n",
       "    </tr>\n",
       "    <tr>\n",
       "      <th>240</th>\n",
       "      <td>2023-04-01</td>\n",
       "      <td>300.214</td>\n",
       "      <td>3.4</td>\n",
       "      <td>15633.0</td>\n",
       "      <td>334880.0</td>\n",
       "      <td>1417.0</td>\n",
       "      <td>1348.0</td>\n",
       "      <td>4.83</td>\n",
       "      <td>2023</td>\n",
       "      <td>4</td>\n",
       "      <td>2023-04</td>\n",
       "      <td>26798.605000</td>\n",
       "    </tr>\n",
       "  </tbody>\n",
       "</table>\n",
       "</div>"
      ],
      "text/plain": [
       "        DATE_x  CSUSHPISA  UNRATE  DSPIC96    POPTHM  PERMIT   HOUST  \\\n",
       "236 2022-12-01    297.189     3.5  15250.6  334420.0  1409.0  1357.0   \n",
       "237 2023-01-01    296.601     3.4  15504.7  334533.0  1354.0  1340.0   \n",
       "238 2023-02-01    296.958     3.6  15545.3  334637.0  1482.0  1436.0   \n",
       "239 2023-03-01    298.210     3.5  15598.6  334753.0  1437.0  1380.0   \n",
       "240 2023-04-01    300.214     3.4  15633.0  334880.0  1417.0  1348.0   \n",
       "\n",
       "     FEDFUNDS  YEAR  MONTH   DATE_y           GDP  \n",
       "236      4.10  2022     12  2022-12  26399.180000  \n",
       "237      4.33  2023      1  2023-01  26529.774000  \n",
       "238      4.57  2023      2  2023-02  26619.384333  \n",
       "239      4.65  2023      3  2023-03  26708.994667  \n",
       "240      4.83  2023      4  2023-04  26798.605000  "
      ]
     },
     "execution_count": 38,
     "metadata": {},
     "output_type": "execute_result"
    }
   ],
   "source": [
    "merged_df_gdp.tail()"
   ]
  },
  {
   "cell_type": "code",
   "execution_count": 39,
   "id": "cafff998",
   "metadata": {},
   "outputs": [],
   "source": [
    "df_homeown['DATE'] = df_homeown['DATE'].dt.to_period('M')\n",
    "df_homeown.set_index('DATE', inplace=True)\n",
    "df_homeown_rate = df_homeown.resample('M').interpolate()\n",
    "\n",
    "# Reset the index\n",
    "df_homeown_rate.reset_index(inplace=True)"
   ]
  },
  {
   "cell_type": "code",
   "execution_count": 40,
   "id": "e2331b38",
   "metadata": {},
   "outputs": [
    {
     "data": {
      "text/html": [
       "<div>\n",
       "<style scoped>\n",
       "    .dataframe tbody tr th:only-of-type {\n",
       "        vertical-align: middle;\n",
       "    }\n",
       "\n",
       "    .dataframe tbody tr th {\n",
       "        vertical-align: top;\n",
       "    }\n",
       "\n",
       "    .dataframe thead th {\n",
       "        text-align: right;\n",
       "    }\n",
       "</style>\n",
       "<table border=\"1\" class=\"dataframe\">\n",
       "  <thead>\n",
       "    <tr style=\"text-align: right;\">\n",
       "      <th></th>\n",
       "      <th>DATE</th>\n",
       "      <th>RHORUSQ156N</th>\n",
       "    </tr>\n",
       "  </thead>\n",
       "  <tbody>\n",
       "    <tr>\n",
       "      <th>0</th>\n",
       "      <td>2003-04</td>\n",
       "      <td>68.000000</td>\n",
       "    </tr>\n",
       "    <tr>\n",
       "      <th>1</th>\n",
       "      <td>2003-05</td>\n",
       "      <td>68.133333</td>\n",
       "    </tr>\n",
       "    <tr>\n",
       "      <th>2</th>\n",
       "      <td>2003-06</td>\n",
       "      <td>68.266667</td>\n",
       "    </tr>\n",
       "    <tr>\n",
       "      <th>3</th>\n",
       "      <td>2003-07</td>\n",
       "      <td>68.400000</td>\n",
       "    </tr>\n",
       "    <tr>\n",
       "      <th>4</th>\n",
       "      <td>2003-08</td>\n",
       "      <td>68.466667</td>\n",
       "    </tr>\n",
       "  </tbody>\n",
       "</table>\n",
       "</div>"
      ],
      "text/plain": [
       "      DATE  RHORUSQ156N\n",
       "0  2003-04    68.000000\n",
       "1  2003-05    68.133333\n",
       "2  2003-06    68.266667\n",
       "3  2003-07    68.400000\n",
       "4  2003-08    68.466667"
      ]
     },
     "execution_count": 40,
     "metadata": {},
     "output_type": "execute_result"
    }
   ],
   "source": [
    "df_homeown_rate.head()"
   ]
  },
  {
   "cell_type": "code",
   "execution_count": 41,
   "id": "2c362588",
   "metadata": {},
   "outputs": [],
   "source": [
    "df_homeown_rate.rename(columns={'DATE': 'DATE_y'}, inplace=True)"
   ]
  },
  {
   "cell_type": "code",
   "execution_count": 42,
   "id": "6902d0e4",
   "metadata": {},
   "outputs": [
    {
     "data": {
      "text/html": [
       "<div>\n",
       "<style scoped>\n",
       "    .dataframe tbody tr th:only-of-type {\n",
       "        vertical-align: middle;\n",
       "    }\n",
       "\n",
       "    .dataframe tbody tr th {\n",
       "        vertical-align: top;\n",
       "    }\n",
       "\n",
       "    .dataframe thead th {\n",
       "        text-align: right;\n",
       "    }\n",
       "</style>\n",
       "<table border=\"1\" class=\"dataframe\">\n",
       "  <thead>\n",
       "    <tr style=\"text-align: right;\">\n",
       "      <th></th>\n",
       "      <th>DATE_y</th>\n",
       "      <th>RHORUSQ156N</th>\n",
       "    </tr>\n",
       "  </thead>\n",
       "  <tbody>\n",
       "    <tr>\n",
       "      <th>0</th>\n",
       "      <td>2003-04</td>\n",
       "      <td>68.000000</td>\n",
       "    </tr>\n",
       "    <tr>\n",
       "      <th>1</th>\n",
       "      <td>2003-05</td>\n",
       "      <td>68.133333</td>\n",
       "    </tr>\n",
       "    <tr>\n",
       "      <th>2</th>\n",
       "      <td>2003-06</td>\n",
       "      <td>68.266667</td>\n",
       "    </tr>\n",
       "    <tr>\n",
       "      <th>3</th>\n",
       "      <td>2003-07</td>\n",
       "      <td>68.400000</td>\n",
       "    </tr>\n",
       "    <tr>\n",
       "      <th>4</th>\n",
       "      <td>2003-08</td>\n",
       "      <td>68.466667</td>\n",
       "    </tr>\n",
       "  </tbody>\n",
       "</table>\n",
       "</div>"
      ],
      "text/plain": [
       "    DATE_y  RHORUSQ156N\n",
       "0  2003-04    68.000000\n",
       "1  2003-05    68.133333\n",
       "2  2003-06    68.266667\n",
       "3  2003-07    68.400000\n",
       "4  2003-08    68.466667"
      ]
     },
     "execution_count": 42,
     "metadata": {},
     "output_type": "execute_result"
    }
   ],
   "source": [
    "df_homeown_rate.head()"
   ]
  },
  {
   "cell_type": "code",
   "execution_count": 43,
   "id": "e98f99bb",
   "metadata": {},
   "outputs": [],
   "source": [
    "merged_df1 = pd.merge(merged_df_gdp, df_homeown_rate, on=\"DATE_y\")"
   ]
  },
  {
   "cell_type": "code",
   "execution_count": 44,
   "id": "8aa98006",
   "metadata": {},
   "outputs": [
    {
     "data": {
      "text/html": [
       "<div>\n",
       "<style scoped>\n",
       "    .dataframe tbody tr th:only-of-type {\n",
       "        vertical-align: middle;\n",
       "    }\n",
       "\n",
       "    .dataframe tbody tr th {\n",
       "        vertical-align: top;\n",
       "    }\n",
       "\n",
       "    .dataframe thead th {\n",
       "        text-align: right;\n",
       "    }\n",
       "</style>\n",
       "<table border=\"1\" class=\"dataframe\">\n",
       "  <thead>\n",
       "    <tr style=\"text-align: right;\">\n",
       "      <th></th>\n",
       "      <th>DATE_x</th>\n",
       "      <th>CSUSHPISA</th>\n",
       "      <th>UNRATE</th>\n",
       "      <th>DSPIC96</th>\n",
       "      <th>POPTHM</th>\n",
       "      <th>PERMIT</th>\n",
       "      <th>HOUST</th>\n",
       "      <th>FEDFUNDS</th>\n",
       "      <th>YEAR</th>\n",
       "      <th>MONTH</th>\n",
       "      <th>DATE_y</th>\n",
       "      <th>GDP</th>\n",
       "      <th>RHORUSQ156N</th>\n",
       "    </tr>\n",
       "  </thead>\n",
       "  <tbody>\n",
       "    <tr>\n",
       "      <th>0</th>\n",
       "      <td>2003-04-01</td>\n",
       "      <td>130.884</td>\n",
       "      <td>6.0</td>\n",
       "      <td>10181.4</td>\n",
       "      <td>290024.0</td>\n",
       "      <td>1803.0</td>\n",
       "      <td>1643.0</td>\n",
       "      <td>1.26</td>\n",
       "      <td>2003</td>\n",
       "      <td>4</td>\n",
       "      <td>2003-04</td>\n",
       "      <td>11312.766000</td>\n",
       "      <td>68.000000</td>\n",
       "    </tr>\n",
       "    <tr>\n",
       "      <th>1</th>\n",
       "      <td>2003-05-01</td>\n",
       "      <td>131.734</td>\n",
       "      <td>6.1</td>\n",
       "      <td>10261.2</td>\n",
       "      <td>290250.0</td>\n",
       "      <td>1835.0</td>\n",
       "      <td>1751.0</td>\n",
       "      <td>1.26</td>\n",
       "      <td>2003</td>\n",
       "      <td>5</td>\n",
       "      <td>2003-05</td>\n",
       "      <td>11397.400333</td>\n",
       "      <td>68.133333</td>\n",
       "    </tr>\n",
       "    <tr>\n",
       "      <th>2</th>\n",
       "      <td>2003-06-01</td>\n",
       "      <td>132.649</td>\n",
       "      <td>6.3</td>\n",
       "      <td>10291.2</td>\n",
       "      <td>290484.0</td>\n",
       "      <td>1875.0</td>\n",
       "      <td>1867.0</td>\n",
       "      <td>1.22</td>\n",
       "      <td>2003</td>\n",
       "      <td>6</td>\n",
       "      <td>2003-06</td>\n",
       "      <td>11482.034667</td>\n",
       "      <td>68.266667</td>\n",
       "    </tr>\n",
       "    <tr>\n",
       "      <th>3</th>\n",
       "      <td>2003-07-01</td>\n",
       "      <td>133.777</td>\n",
       "      <td>6.2</td>\n",
       "      <td>10415.5</td>\n",
       "      <td>290726.0</td>\n",
       "      <td>1885.0</td>\n",
       "      <td>1897.0</td>\n",
       "      <td>1.01</td>\n",
       "      <td>2003</td>\n",
       "      <td>7</td>\n",
       "      <td>2003-07</td>\n",
       "      <td>11566.669000</td>\n",
       "      <td>68.400000</td>\n",
       "    </tr>\n",
       "    <tr>\n",
       "      <th>4</th>\n",
       "      <td>2003-08-01</td>\n",
       "      <td>134.968</td>\n",
       "      <td>6.1</td>\n",
       "      <td>10487.7</td>\n",
       "      <td>290974.0</td>\n",
       "      <td>1966.0</td>\n",
       "      <td>1833.0</td>\n",
       "      <td>1.03</td>\n",
       "      <td>2003</td>\n",
       "      <td>8</td>\n",
       "      <td>2003-08</td>\n",
       "      <td>11635.190667</td>\n",
       "      <td>68.466667</td>\n",
       "    </tr>\n",
       "    <tr>\n",
       "      <th>...</th>\n",
       "      <td>...</td>\n",
       "      <td>...</td>\n",
       "      <td>...</td>\n",
       "      <td>...</td>\n",
       "      <td>...</td>\n",
       "      <td>...</td>\n",
       "      <td>...</td>\n",
       "      <td>...</td>\n",
       "      <td>...</td>\n",
       "      <td>...</td>\n",
       "      <td>...</td>\n",
       "      <td>...</td>\n",
       "      <td>...</td>\n",
       "    </tr>\n",
       "    <tr>\n",
       "      <th>236</th>\n",
       "      <td>2022-12-01</td>\n",
       "      <td>297.189</td>\n",
       "      <td>3.5</td>\n",
       "      <td>15250.6</td>\n",
       "      <td>334420.0</td>\n",
       "      <td>1409.0</td>\n",
       "      <td>1357.0</td>\n",
       "      <td>4.10</td>\n",
       "      <td>2022</td>\n",
       "      <td>12</td>\n",
       "      <td>2022-12</td>\n",
       "      <td>26399.180000</td>\n",
       "      <td>65.966667</td>\n",
       "    </tr>\n",
       "    <tr>\n",
       "      <th>237</th>\n",
       "      <td>2023-01-01</td>\n",
       "      <td>296.601</td>\n",
       "      <td>3.4</td>\n",
       "      <td>15504.7</td>\n",
       "      <td>334533.0</td>\n",
       "      <td>1354.0</td>\n",
       "      <td>1340.0</td>\n",
       "      <td>4.33</td>\n",
       "      <td>2023</td>\n",
       "      <td>1</td>\n",
       "      <td>2023-01</td>\n",
       "      <td>26529.774000</td>\n",
       "      <td>66.000000</td>\n",
       "    </tr>\n",
       "    <tr>\n",
       "      <th>238</th>\n",
       "      <td>2023-02-01</td>\n",
       "      <td>296.958</td>\n",
       "      <td>3.6</td>\n",
       "      <td>15545.3</td>\n",
       "      <td>334637.0</td>\n",
       "      <td>1482.0</td>\n",
       "      <td>1436.0</td>\n",
       "      <td>4.57</td>\n",
       "      <td>2023</td>\n",
       "      <td>2</td>\n",
       "      <td>2023-02</td>\n",
       "      <td>26619.384333</td>\n",
       "      <td>65.966667</td>\n",
       "    </tr>\n",
       "    <tr>\n",
       "      <th>239</th>\n",
       "      <td>2023-03-01</td>\n",
       "      <td>298.210</td>\n",
       "      <td>3.5</td>\n",
       "      <td>15598.6</td>\n",
       "      <td>334753.0</td>\n",
       "      <td>1437.0</td>\n",
       "      <td>1380.0</td>\n",
       "      <td>4.65</td>\n",
       "      <td>2023</td>\n",
       "      <td>3</td>\n",
       "      <td>2023-03</td>\n",
       "      <td>26708.994667</td>\n",
       "      <td>65.933333</td>\n",
       "    </tr>\n",
       "    <tr>\n",
       "      <th>240</th>\n",
       "      <td>2023-04-01</td>\n",
       "      <td>300.214</td>\n",
       "      <td>3.4</td>\n",
       "      <td>15633.0</td>\n",
       "      <td>334880.0</td>\n",
       "      <td>1417.0</td>\n",
       "      <td>1348.0</td>\n",
       "      <td>4.83</td>\n",
       "      <td>2023</td>\n",
       "      <td>4</td>\n",
       "      <td>2023-04</td>\n",
       "      <td>26798.605000</td>\n",
       "      <td>65.900000</td>\n",
       "    </tr>\n",
       "  </tbody>\n",
       "</table>\n",
       "<p>241 rows × 13 columns</p>\n",
       "</div>"
      ],
      "text/plain": [
       "        DATE_x  CSUSHPISA  UNRATE  DSPIC96    POPTHM  PERMIT   HOUST  \\\n",
       "0   2003-04-01    130.884     6.0  10181.4  290024.0  1803.0  1643.0   \n",
       "1   2003-05-01    131.734     6.1  10261.2  290250.0  1835.0  1751.0   \n",
       "2   2003-06-01    132.649     6.3  10291.2  290484.0  1875.0  1867.0   \n",
       "3   2003-07-01    133.777     6.2  10415.5  290726.0  1885.0  1897.0   \n",
       "4   2003-08-01    134.968     6.1  10487.7  290974.0  1966.0  1833.0   \n",
       "..         ...        ...     ...      ...       ...     ...     ...   \n",
       "236 2022-12-01    297.189     3.5  15250.6  334420.0  1409.0  1357.0   \n",
       "237 2023-01-01    296.601     3.4  15504.7  334533.0  1354.0  1340.0   \n",
       "238 2023-02-01    296.958     3.6  15545.3  334637.0  1482.0  1436.0   \n",
       "239 2023-03-01    298.210     3.5  15598.6  334753.0  1437.0  1380.0   \n",
       "240 2023-04-01    300.214     3.4  15633.0  334880.0  1417.0  1348.0   \n",
       "\n",
       "     FEDFUNDS  YEAR  MONTH   DATE_y           GDP  RHORUSQ156N  \n",
       "0        1.26  2003      4  2003-04  11312.766000    68.000000  \n",
       "1        1.26  2003      5  2003-05  11397.400333    68.133333  \n",
       "2        1.22  2003      6  2003-06  11482.034667    68.266667  \n",
       "3        1.01  2003      7  2003-07  11566.669000    68.400000  \n",
       "4        1.03  2003      8  2003-08  11635.190667    68.466667  \n",
       "..        ...   ...    ...      ...           ...          ...  \n",
       "236      4.10  2022     12  2022-12  26399.180000    65.966667  \n",
       "237      4.33  2023      1  2023-01  26529.774000    66.000000  \n",
       "238      4.57  2023      2  2023-02  26619.384333    65.966667  \n",
       "239      4.65  2023      3  2023-03  26708.994667    65.933333  \n",
       "240      4.83  2023      4  2023-04  26798.605000    65.900000  \n",
       "\n",
       "[241 rows x 13 columns]"
      ]
     },
     "execution_count": 44,
     "metadata": {},
     "output_type": "execute_result"
    }
   ],
   "source": [
    "merged_df1"
   ]
  },
  {
   "cell_type": "code",
   "execution_count": 45,
   "id": "93fcc2af",
   "metadata": {},
   "outputs": [],
   "source": [
    "merged_df2=merged_df1.drop(merged_df1[[\"DATE_y\", \"YEAR\", \"MONTH\"]], axis=1)"
   ]
  },
  {
   "cell_type": "code",
   "execution_count": 46,
   "id": "8c6e5e93",
   "metadata": {},
   "outputs": [
    {
     "name": "stdout",
     "output_type": "stream",
     "text": [
      "<class 'pandas.core.frame.DataFrame'>\n",
      "Int64Index: 241 entries, 0 to 240\n",
      "Data columns (total 10 columns):\n",
      " #   Column       Non-Null Count  Dtype         \n",
      "---  ------       --------------  -----         \n",
      " 0   DATE_x       241 non-null    datetime64[ns]\n",
      " 1   CSUSHPISA    241 non-null    float64       \n",
      " 2   UNRATE       241 non-null    float64       \n",
      " 3   DSPIC96      241 non-null    float64       \n",
      " 4   POPTHM       241 non-null    float64       \n",
      " 5   PERMIT       241 non-null    float64       \n",
      " 6   HOUST        241 non-null    float64       \n",
      " 7   FEDFUNDS     241 non-null    float64       \n",
      " 8   GDP          241 non-null    float64       \n",
      " 9   RHORUSQ156N  241 non-null    float64       \n",
      "dtypes: datetime64[ns](1), float64(9)\n",
      "memory usage: 20.7 KB\n"
     ]
    }
   ],
   "source": [
    "merged_df2.info()"
   ]
  },
  {
   "cell_type": "code",
   "execution_count": 47,
   "id": "b98c2515",
   "metadata": {},
   "outputs": [
    {
     "data": {
      "text/plain": [
       "DATE_x         0\n",
       "CSUSHPISA      0\n",
       "UNRATE         0\n",
       "DSPIC96        0\n",
       "POPTHM         0\n",
       "PERMIT         0\n",
       "HOUST          0\n",
       "FEDFUNDS       0\n",
       "GDP            0\n",
       "RHORUSQ156N    0\n",
       "dtype: int64"
      ]
     },
     "execution_count": 47,
     "metadata": {},
     "output_type": "execute_result"
    }
   ],
   "source": [
    "#checking for null values\n",
    "merged_df2.isnull().sum()"
   ]
  },
  {
   "cell_type": "code",
   "execution_count": 48,
   "id": "0d9fb9a6",
   "metadata": {},
   "outputs": [
    {
     "data": {
      "text/html": [
       "<div>\n",
       "<style scoped>\n",
       "    .dataframe tbody tr th:only-of-type {\n",
       "        vertical-align: middle;\n",
       "    }\n",
       "\n",
       "    .dataframe tbody tr th {\n",
       "        vertical-align: top;\n",
       "    }\n",
       "\n",
       "    .dataframe thead th {\n",
       "        text-align: right;\n",
       "    }\n",
       "</style>\n",
       "<table border=\"1\" class=\"dataframe\">\n",
       "  <thead>\n",
       "    <tr style=\"text-align: right;\">\n",
       "      <th></th>\n",
       "      <th>CSUSHPISA</th>\n",
       "      <th>UNRATE</th>\n",
       "      <th>DSPIC96</th>\n",
       "      <th>POPTHM</th>\n",
       "      <th>PERMIT</th>\n",
       "      <th>HOUST</th>\n",
       "      <th>FEDFUNDS</th>\n",
       "      <th>GDP</th>\n",
       "      <th>RHORUSQ156N</th>\n",
       "    </tr>\n",
       "  </thead>\n",
       "  <tbody>\n",
       "    <tr>\n",
       "      <th>count</th>\n",
       "      <td>241.000000</td>\n",
       "      <td>241.000000</td>\n",
       "      <td>241.000000</td>\n",
       "      <td>241.000000</td>\n",
       "      <td>241.000000</td>\n",
       "      <td>241.000000</td>\n",
       "      <td>241.000000</td>\n",
       "      <td>241.000000</td>\n",
       "      <td>241.000000</td>\n",
       "    </tr>\n",
       "    <tr>\n",
       "      <th>mean</th>\n",
       "      <td>183.246315</td>\n",
       "      <td>5.971784</td>\n",
       "      <td>12911.736515</td>\n",
       "      <td>315461.800830</td>\n",
       "      <td>1305.041494</td>\n",
       "      <td>1244.759336</td>\n",
       "      <td>1.356929</td>\n",
       "      <td>17479.196398</td>\n",
       "      <td>66.166390</td>\n",
       "    </tr>\n",
       "    <tr>\n",
       "      <th>std</th>\n",
       "      <td>43.417141</td>\n",
       "      <td>2.055691</td>\n",
       "      <td>1739.220123</td>\n",
       "      <td>13624.981944</td>\n",
       "      <td>475.866918</td>\n",
       "      <td>456.576180</td>\n",
       "      <td>1.630804</td>\n",
       "      <td>3864.048016</td>\n",
       "      <td>1.814167</td>\n",
       "    </tr>\n",
       "    <tr>\n",
       "      <th>min</th>\n",
       "      <td>130.884000</td>\n",
       "      <td>3.400000</td>\n",
       "      <td>10181.400000</td>\n",
       "      <td>290024.000000</td>\n",
       "      <td>513.000000</td>\n",
       "      <td>478.000000</td>\n",
       "      <td>0.050000</td>\n",
       "      <td>11312.766000</td>\n",
       "      <td>62.900000</td>\n",
       "    </tr>\n",
       "    <tr>\n",
       "      <th>25%</th>\n",
       "      <td>148.409000</td>\n",
       "      <td>4.500000</td>\n",
       "      <td>11538.600000</td>\n",
       "      <td>303926.000000</td>\n",
       "      <td>980.000000</td>\n",
       "      <td>917.000000</td>\n",
       "      <td>0.120000</td>\n",
       "      <td>14549.105667</td>\n",
       "      <td>64.666667</td>\n",
       "    </tr>\n",
       "    <tr>\n",
       "      <th>50%</th>\n",
       "      <td>173.830000</td>\n",
       "      <td>5.400000</td>\n",
       "      <td>12431.500000</td>\n",
       "      <td>316535.000000</td>\n",
       "      <td>1291.000000</td>\n",
       "      <td>1206.000000</td>\n",
       "      <td>0.400000</td>\n",
       "      <td>16699.551000</td>\n",
       "      <td>65.900000</td>\n",
       "    </tr>\n",
       "    <tr>\n",
       "      <th>75%</th>\n",
       "      <td>200.655000</td>\n",
       "      <td>7.300000</td>\n",
       "      <td>14275.900000</td>\n",
       "      <td>328364.000000</td>\n",
       "      <td>1644.000000</td>\n",
       "      <td>1561.000000</td>\n",
       "      <td>2.130000</td>\n",
       "      <td>20260.389667</td>\n",
       "      <td>67.900000</td>\n",
       "    </tr>\n",
       "    <tr>\n",
       "      <th>max</th>\n",
       "      <td>304.817000</td>\n",
       "      <td>14.700000</td>\n",
       "      <td>19213.900000</td>\n",
       "      <td>334880.000000</td>\n",
       "      <td>2263.000000</td>\n",
       "      <td>2273.000000</td>\n",
       "      <td>5.260000</td>\n",
       "      <td>26798.605000</td>\n",
       "      <td>69.200000</td>\n",
       "    </tr>\n",
       "  </tbody>\n",
       "</table>\n",
       "</div>"
      ],
      "text/plain": [
       "        CSUSHPISA      UNRATE       DSPIC96         POPTHM       PERMIT  \\\n",
       "count  241.000000  241.000000    241.000000     241.000000   241.000000   \n",
       "mean   183.246315    5.971784  12911.736515  315461.800830  1305.041494   \n",
       "std     43.417141    2.055691   1739.220123   13624.981944   475.866918   \n",
       "min    130.884000    3.400000  10181.400000  290024.000000   513.000000   \n",
       "25%    148.409000    4.500000  11538.600000  303926.000000   980.000000   \n",
       "50%    173.830000    5.400000  12431.500000  316535.000000  1291.000000   \n",
       "75%    200.655000    7.300000  14275.900000  328364.000000  1644.000000   \n",
       "max    304.817000   14.700000  19213.900000  334880.000000  2263.000000   \n",
       "\n",
       "             HOUST    FEDFUNDS           GDP  RHORUSQ156N  \n",
       "count   241.000000  241.000000    241.000000   241.000000  \n",
       "mean   1244.759336    1.356929  17479.196398    66.166390  \n",
       "std     456.576180    1.630804   3864.048016     1.814167  \n",
       "min     478.000000    0.050000  11312.766000    62.900000  \n",
       "25%     917.000000    0.120000  14549.105667    64.666667  \n",
       "50%    1206.000000    0.400000  16699.551000    65.900000  \n",
       "75%    1561.000000    2.130000  20260.389667    67.900000  \n",
       "max    2273.000000    5.260000  26798.605000    69.200000  "
      ]
     },
     "execution_count": 48,
     "metadata": {},
     "output_type": "execute_result"
    }
   ],
   "source": [
    "merged_df2.describe()"
   ]
  },
  {
   "cell_type": "code",
   "execution_count": 49,
   "id": "d7ff3503",
   "metadata": {},
   "outputs": [
    {
     "data": {
      "text/plain": [
       "Index(['DATE_x', 'CSUSHPISA', 'UNRATE', 'DSPIC96', 'POPTHM', 'PERMIT', 'HOUST',\n",
       "       'FEDFUNDS', 'GDP', 'RHORUSQ156N'],\n",
       "      dtype='object')"
      ]
     },
     "execution_count": 49,
     "metadata": {},
     "output_type": "execute_result"
    }
   ],
   "source": [
    "merged_df2.columns"
   ]
  },
  {
   "cell_type": "markdown",
   "id": "0e155757",
   "metadata": {},
   "source": [
    "### Time Series Analysis"
   ]
  },
  {
   "cell_type": "code",
   "execution_count": 50,
   "id": "e7c94148",
   "metadata": {},
   "outputs": [],
   "source": [
    "merged_df2['DATE_x'] = pd.to_datetime(merged_df2['DATE_x'])"
   ]
  },
  {
   "cell_type": "code",
   "execution_count": 51,
   "id": "fae59b36",
   "metadata": {},
   "outputs": [
    {
     "data": {
      "image/png": "[encoded data removed]",
      "text/plain": [
       "<Figure size 1008x864 with 10 Axes>"
      ]
     },
     "metadata": {
      "needs_background": "light"
     },
     "output_type": "display_data"
    }
   ],
   "source": [
    "fig, axes = plt.subplots(nrows=5, ncols=2, figsize=(14, 12))\n",
    "sns.lineplot(data=merged_df2, x='DATE_x', y='CSUSHPISA', ax=axes[0, 0])\n",
    "sns.lineplot(data=merged_df2, x='DATE_x', y='UNRATE', ax=axes[0, 1])\n",
    "sns.lineplot(data=merged_df2, x='DATE_x', y='DSPIC96', ax=axes[1, 0])\n",
    "sns.lineplot(data=merged_df2, x='DATE_x', y='POPTHM', ax=axes[1, 1])\n",
    "sns.lineplot(data=merged_df2, x='DATE_x', y='PERMIT', ax=axes[2, 0])\n",
    "sns.lineplot(data=merged_df2, x='DATE_x', y='HOUST', ax=axes[2, 1])\n",
    "sns.lineplot(data=merged_df2, x='DATE_x', y='GDP', ax=axes[3, 0])\n",
    "sns.lineplot(data=merged_df2, x='DATE_x', y='RHORUSQ156N', ax=axes[3, 1])\n",
    "sns.lineplot(data=merged_df2, x='DATE_x', y='FEDFUNDS', ax=axes[4, 0])\n",
    "plt.tight_layout()"
   ]
  },
  {
   "cell_type": "code",
   "execution_count": 52,
   "id": "888804bb",
   "metadata": {},
   "outputs": [],
   "source": [
    "df_col=list(merged_df2[[ 'CSUSHPISA', 'UNRATE', 'DSPIC96', 'POPTHM', 'PERMIT', 'HOUST',\n",
    "       'FEDFUNDS',  'GDP', 'RHORUSQ156N']])"
   ]
  },
  {
   "cell_type": "code",
   "execution_count": 53,
   "id": "1ce439c8",
   "metadata": {},
   "outputs": [
    {
     "data": {
      "image/png": "[encoded data removed]",
      "text/plain": [
       "<Figure size 1368x1080 with 9 Axes>"
      ]
     },
     "metadata": {
      "needs_background": "light"
     },
     "output_type": "display_data"
    }
   ],
   "source": [
    "plt.figure(figsize = (19,15))\n",
    "for i in range(len(df_col)):\n",
    "    plt.subplot(3, 3, i + 1)\n",
    "    sns.boxplot(y = merged_df2[df_col[i]], data = merged_df2)\n",
    "    plt.title('Boxplot of {}'.format(df_col[i]))\n",
    "    plt.tight_layout()"
   ]
  },
  {
   "cell_type": "code",
   "execution_count": 54,
   "id": "8004654a",
   "metadata": {},
   "outputs": [],
   "source": [
    "def remove_outlier(col):\n",
    "    Q1,Q3=col.quantile([0.25,0.75])\n",
    "    IQR=Q3-Q1\n",
    "    lower_range= Q1-(1.5 * IQR)\n",
    "    upper_range= Q3+(1.5 * IQR)\n",
    "    return lower_range, upper_range"
   ]
  },
  {
   "cell_type": "code",
   "execution_count": 55,
   "id": "b95ac884",
   "metadata": {},
   "outputs": [],
   "source": [
    "for i in df_col:\n",
    "    LL, UL = remove_outlier(merged_df2[i])\n",
    "    merged_df2[i] = np.where(merged_df2[i] > UL, UL, merged_df2[i])\n",
    "    merged_df2[i] = np.where(merged_df2[i] < LL, LL, merged_df2[i])"
   ]
  },
  {
   "cell_type": "code",
   "execution_count": 56,
   "id": "3e12bd17",
   "metadata": {},
   "outputs": [
    {
     "data": {
      "image/png": "[encoded data removed]",
      "text/plain": [
       "<Figure size 1368x1080 with 9 Axes>"
      ]
     },
     "metadata": {
      "needs_background": "light"
     },
     "output_type": "display_data"
    }
   ],
   "source": [
    "plt.figure(figsize = (19,15))\n",
    "for i in range(len(df_col)):\n",
    "    plt.subplot(3, 3, i + 1)\n",
    "    sns.boxplot(y = merged_df2[df_col[i]], data = merged_df2)\n",
    "    plt.title('Boxplot of {}'.format(df_col[i]))\n",
    "    plt.tight_layout()"
   ]
  },
  {
   "cell_type": "markdown",
   "id": "02e163cc",
   "metadata": {},
   "source": [
    "### Checking and handling Multicollinearity"
   ]
  },
  {
   "cell_type": "code",
   "execution_count": 57,
   "id": "5f68c03a",
   "metadata": {},
   "outputs": [
    {
     "data": {
      "image/png": "[encoded data removed]",
      "text/plain": [
       "<Figure size 864x576 with 2 Axes>"
      ]
     },
     "metadata": {
      "needs_background": "light"
     },
     "output_type": "display_data"
    }
   ],
   "source": [
    "plt.figure(figsize = (12,8))\n",
    "sns.heatmap(merged_df2.corr(), annot=True)\n",
    "plt.show()"
   ]
  },
  {
   "cell_type": "code",
   "execution_count": 58,
   "id": "b100dc5a",
   "metadata": {},
   "outputs": [
    {
     "data": {
      "text/plain": [
       "Index(['DATE_x', 'CSUSHPISA', 'UNRATE', 'DSPIC96', 'POPTHM', 'PERMIT', 'HOUST',\n",
       "       'FEDFUNDS', 'GDP', 'RHORUSQ156N'],\n",
       "      dtype='object')"
      ]
     },
     "execution_count": 58,
     "metadata": {},
     "output_type": "execute_result"
    }
   ],
   "source": [
    "merged_df2.columns"
   ]
  },
  {
   "cell_type": "code",
   "execution_count": 59,
   "id": "9c7cd2a7",
   "metadata": {},
   "outputs": [],
   "source": [
    "merged_df2.drop(merged_df2[['DSPIC96', 'POPTHM','HOUST']], axis=1, inplace=True)"
   ]
  },
  {
   "cell_type": "code",
   "execution_count": 60,
   "id": "119a16a3",
   "metadata": {},
   "outputs": [
    {
     "data": {
      "text/html": [
       "<div>\n",
       "<style scoped>\n",
       "    .dataframe tbody tr th:only-of-type {\n",
       "        vertical-align: middle;\n",
       "    }\n",
       "\n",
       "    .dataframe tbody tr th {\n",
       "        vertical-align: top;\n",
       "    }\n",
       "\n",
       "    .dataframe thead th {\n",
       "        text-align: right;\n",
       "    }\n",
       "</style>\n",
       "<table border=\"1\" class=\"dataframe\">\n",
       "  <thead>\n",
       "    <tr style=\"text-align: right;\">\n",
       "      <th></th>\n",
       "      <th>DATE_x</th>\n",
       "      <th>CSUSHPISA</th>\n",
       "      <th>UNRATE</th>\n",
       "      <th>PERMIT</th>\n",
       "      <th>FEDFUNDS</th>\n",
       "      <th>GDP</th>\n",
       "      <th>RHORUSQ156N</th>\n",
       "    </tr>\n",
       "  </thead>\n",
       "  <tbody>\n",
       "    <tr>\n",
       "      <th>0</th>\n",
       "      <td>2003-04-01</td>\n",
       "      <td>130.884</td>\n",
       "      <td>6.0</td>\n",
       "      <td>1803.0</td>\n",
       "      <td>1.26</td>\n",
       "      <td>11312.766000</td>\n",
       "      <td>68.000000</td>\n",
       "    </tr>\n",
       "    <tr>\n",
       "      <th>1</th>\n",
       "      <td>2003-05-01</td>\n",
       "      <td>131.734</td>\n",
       "      <td>6.1</td>\n",
       "      <td>1835.0</td>\n",
       "      <td>1.26</td>\n",
       "      <td>11397.400333</td>\n",
       "      <td>68.133333</td>\n",
       "    </tr>\n",
       "    <tr>\n",
       "      <th>2</th>\n",
       "      <td>2003-06-01</td>\n",
       "      <td>132.649</td>\n",
       "      <td>6.3</td>\n",
       "      <td>1875.0</td>\n",
       "      <td>1.22</td>\n",
       "      <td>11482.034667</td>\n",
       "      <td>68.266667</td>\n",
       "    </tr>\n",
       "    <tr>\n",
       "      <th>3</th>\n",
       "      <td>2003-07-01</td>\n",
       "      <td>133.777</td>\n",
       "      <td>6.2</td>\n",
       "      <td>1885.0</td>\n",
       "      <td>1.01</td>\n",
       "      <td>11566.669000</td>\n",
       "      <td>68.400000</td>\n",
       "    </tr>\n",
       "    <tr>\n",
       "      <th>4</th>\n",
       "      <td>2003-08-01</td>\n",
       "      <td>134.968</td>\n",
       "      <td>6.1</td>\n",
       "      <td>1966.0</td>\n",
       "      <td>1.03</td>\n",
       "      <td>11635.190667</td>\n",
       "      <td>68.466667</td>\n",
       "    </tr>\n",
       "  </tbody>\n",
       "</table>\n",
       "</div>"
      ],
      "text/plain": [
       "      DATE_x  CSUSHPISA  UNRATE  PERMIT  FEDFUNDS           GDP  RHORUSQ156N\n",
       "0 2003-04-01    130.884     6.0  1803.0      1.26  11312.766000    68.000000\n",
       "1 2003-05-01    131.734     6.1  1835.0      1.26  11397.400333    68.133333\n",
       "2 2003-06-01    132.649     6.3  1875.0      1.22  11482.034667    68.266667\n",
       "3 2003-07-01    133.777     6.2  1885.0      1.01  11566.669000    68.400000\n",
       "4 2003-08-01    134.968     6.1  1966.0      1.03  11635.190667    68.466667"
      ]
     },
     "execution_count": 60,
     "metadata": {},
     "output_type": "execute_result"
    }
   ],
   "source": [
    "merged_df2.head()"
   ]
  },
  {
   "cell_type": "code",
   "execution_count": 61,
   "id": "ab6630a8",
   "metadata": {},
   "outputs": [
    {
     "data": {
      "image/png": "[encoded data removed]",
      "text/plain": [
       "<Figure size 864x576 with 2 Axes>"
      ]
     },
     "metadata": {
      "needs_background": "light"
     },
     "output_type": "display_data"
    }
   ],
   "source": [
    "plt.figure(figsize = (12,8))\n",
    "sns.heatmap(merged_df2.corr(), annot=True)\n",
    "plt.show()"
   ]
  },
  {
   "cell_type": "code",
   "execution_count": 62,
   "id": "15681336",
   "metadata": {},
   "outputs": [],
   "source": [
    "y=merged_df2[\"CSUSHPISA\"]\n",
    "X=merged_df2.drop([\"CSUSHPISA\", \"DATE_x\"], axis=1)"
   ]
  },
  {
   "cell_type": "code",
   "execution_count": 63,
   "id": "7ea2785e",
   "metadata": {},
   "outputs": [],
   "source": [
    "df_col2=['UNRATE', 'PERMIT','FEDFUNDS', 'GDP', 'RHORUSQ156N']"
   ]
  },
  {
   "cell_type": "code",
   "execution_count": 64,
   "id": "cbd5907b",
   "metadata": {},
   "outputs": [
    {
     "data": {
      "text/html": [
       "<div>\n",
       "<style scoped>\n",
       "    .dataframe tbody tr th:only-of-type {\n",
       "        vertical-align: middle;\n",
       "    }\n",
       "\n",
       "    .dataframe tbody tr th {\n",
       "        vertical-align: top;\n",
       "    }\n",
       "\n",
       "    .dataframe thead th {\n",
       "        text-align: right;\n",
       "    }\n",
       "</style>\n",
       "<table border=\"1\" class=\"dataframe\">\n",
       "  <thead>\n",
       "    <tr style=\"text-align: right;\">\n",
       "      <th></th>\n",
       "      <th>UNRATE</th>\n",
       "      <th>PERMIT</th>\n",
       "      <th>FEDFUNDS</th>\n",
       "      <th>GDP</th>\n",
       "      <th>RHORUSQ156N</th>\n",
       "    </tr>\n",
       "  </thead>\n",
       "  <tbody>\n",
       "    <tr>\n",
       "      <th>0</th>\n",
       "      <td>6.0</td>\n",
       "      <td>1803.0</td>\n",
       "      <td>1.26</td>\n",
       "      <td>11312.766000</td>\n",
       "      <td>68.000000</td>\n",
       "    </tr>\n",
       "    <tr>\n",
       "      <th>1</th>\n",
       "      <td>6.1</td>\n",
       "      <td>1835.0</td>\n",
       "      <td>1.26</td>\n",
       "      <td>11397.400333</td>\n",
       "      <td>68.133333</td>\n",
       "    </tr>\n",
       "    <tr>\n",
       "      <th>2</th>\n",
       "      <td>6.3</td>\n",
       "      <td>1875.0</td>\n",
       "      <td>1.22</td>\n",
       "      <td>11482.034667</td>\n",
       "      <td>68.266667</td>\n",
       "    </tr>\n",
       "    <tr>\n",
       "      <th>3</th>\n",
       "      <td>6.2</td>\n",
       "      <td>1885.0</td>\n",
       "      <td>1.01</td>\n",
       "      <td>11566.669000</td>\n",
       "      <td>68.400000</td>\n",
       "    </tr>\n",
       "    <tr>\n",
       "      <th>4</th>\n",
       "      <td>6.1</td>\n",
       "      <td>1966.0</td>\n",
       "      <td>1.03</td>\n",
       "      <td>11635.190667</td>\n",
       "      <td>68.466667</td>\n",
       "    </tr>\n",
       "    <tr>\n",
       "      <th>...</th>\n",
       "      <td>...</td>\n",
       "      <td>...</td>\n",
       "      <td>...</td>\n",
       "      <td>...</td>\n",
       "      <td>...</td>\n",
       "    </tr>\n",
       "    <tr>\n",
       "      <th>236</th>\n",
       "      <td>3.5</td>\n",
       "      <td>1409.0</td>\n",
       "      <td>4.10</td>\n",
       "      <td>26399.180000</td>\n",
       "      <td>65.966667</td>\n",
       "    </tr>\n",
       "    <tr>\n",
       "      <th>237</th>\n",
       "      <td>3.4</td>\n",
       "      <td>1354.0</td>\n",
       "      <td>4.33</td>\n",
       "      <td>26529.774000</td>\n",
       "      <td>66.000000</td>\n",
       "    </tr>\n",
       "    <tr>\n",
       "      <th>238</th>\n",
       "      <td>3.6</td>\n",
       "      <td>1482.0</td>\n",
       "      <td>4.57</td>\n",
       "      <td>26619.384333</td>\n",
       "      <td>65.966667</td>\n",
       "    </tr>\n",
       "    <tr>\n",
       "      <th>239</th>\n",
       "      <td>3.5</td>\n",
       "      <td>1437.0</td>\n",
       "      <td>4.65</td>\n",
       "      <td>26708.994667</td>\n",
       "      <td>65.933333</td>\n",
       "    </tr>\n",
       "    <tr>\n",
       "      <th>240</th>\n",
       "      <td>3.4</td>\n",
       "      <td>1417.0</td>\n",
       "      <td>4.83</td>\n",
       "      <td>26798.605000</td>\n",
       "      <td>65.900000</td>\n",
       "    </tr>\n",
       "  </tbody>\n",
       "</table>\n",
       "<p>241 rows × 5 columns</p>\n",
       "</div>"
      ],
      "text/plain": [
       "     UNRATE  PERMIT  FEDFUNDS           GDP  RHORUSQ156N\n",
       "0       6.0  1803.0      1.26  11312.766000    68.000000\n",
       "1       6.1  1835.0      1.26  11397.400333    68.133333\n",
       "2       6.3  1875.0      1.22  11482.034667    68.266667\n",
       "3       6.2  1885.0      1.01  11566.669000    68.400000\n",
       "4       6.1  1966.0      1.03  11635.190667    68.466667\n",
       "..      ...     ...       ...           ...          ...\n",
       "236     3.5  1409.0      4.10  26399.180000    65.966667\n",
       "237     3.4  1354.0      4.33  26529.774000    66.000000\n",
       "238     3.6  1482.0      4.57  26619.384333    65.966667\n",
       "239     3.5  1437.0      4.65  26708.994667    65.933333\n",
       "240     3.4  1417.0      4.83  26798.605000    65.900000\n",
       "\n",
       "[241 rows x 5 columns]"
      ]
     },
     "execution_count": 64,
     "metadata": {},
     "output_type": "execute_result"
    }
   ],
   "source": [
    "X"
   ]
  },
  {
   "cell_type": "code",
   "execution_count": 65,
   "id": "f3c6c0c2",
   "metadata": {},
   "outputs": [
    {
     "name": "stdout",
     "output_type": "stream",
     "text": [
      "<class 'pandas.core.frame.DataFrame'>\n",
      "Int64Index: 241 entries, 0 to 240\n",
      "Data columns (total 5 columns):\n",
      " #   Column       Non-Null Count  Dtype  \n",
      "---  ------       --------------  -----  \n",
      " 0   UNRATE       241 non-null    float64\n",
      " 1   PERMIT       241 non-null    float64\n",
      " 2   FEDFUNDS     241 non-null    float64\n",
      " 3   GDP          241 non-null    float64\n",
      " 4   RHORUSQ156N  241 non-null    float64\n",
      "dtypes: float64(5)\n",
      "memory usage: 11.3 KB\n"
     ]
    }
   ],
   "source": [
    "X.info()"
   ]
  },
  {
   "cell_type": "markdown",
   "id": "45f54b74",
   "metadata": {},
   "source": [
    "### Scaling the data for better model performance "
   ]
  },
  {
   "cell_type": "code",
   "execution_count": 66,
   "id": "77cf5cc0",
   "metadata": {},
   "outputs": [],
   "source": [
    "from sklearn.preprocessing import MinMaxScaler"
   ]
  },
  {
   "cell_type": "code",
   "execution_count": 67,
   "id": "4e0118fd",
   "metadata": {},
   "outputs": [],
   "source": [
    "# Initialize the Min-Max scaler\n",
    "scaler = MinMaxScaler()\n",
    "\n",
    "# Fit and transform the selected numerical columns\n",
    "# X= scaler.fit_transform(X)\n",
    "# Fit and transform the selected numerical columns\n",
    "X[df_col2] = scaler.fit_transform(X[df_col2])"
   ]
  },
  {
   "cell_type": "code",
   "execution_count": 68,
   "id": "ad6b480b",
   "metadata": {},
   "outputs": [
    {
     "data": {
      "text/html": [
       "<div>\n",
       "<style scoped>\n",
       "    .dataframe tbody tr th:only-of-type {\n",
       "        vertical-align: middle;\n",
       "    }\n",
       "\n",
       "    .dataframe tbody tr th {\n",
       "        vertical-align: top;\n",
       "    }\n",
       "\n",
       "    .dataframe thead th {\n",
       "        text-align: right;\n",
       "    }\n",
       "</style>\n",
       "<table border=\"1\" class=\"dataframe\">\n",
       "  <thead>\n",
       "    <tr style=\"text-align: right;\">\n",
       "      <th></th>\n",
       "      <th>UNRATE</th>\n",
       "      <th>PERMIT</th>\n",
       "      <th>FEDFUNDS</th>\n",
       "      <th>GDP</th>\n",
       "      <th>RHORUSQ156N</th>\n",
       "    </tr>\n",
       "  </thead>\n",
       "  <tbody>\n",
       "    <tr>\n",
       "      <th>0</th>\n",
       "      <td>0.320988</td>\n",
       "      <td>0.737143</td>\n",
       "      <td>0.237488</td>\n",
       "      <td>0.000000</td>\n",
       "      <td>0.809524</td>\n",
       "    </tr>\n",
       "    <tr>\n",
       "      <th>1</th>\n",
       "      <td>0.333333</td>\n",
       "      <td>0.755429</td>\n",
       "      <td>0.237488</td>\n",
       "      <td>0.005465</td>\n",
       "      <td>0.830688</td>\n",
       "    </tr>\n",
       "    <tr>\n",
       "      <th>2</th>\n",
       "      <td>0.358025</td>\n",
       "      <td>0.778286</td>\n",
       "      <td>0.229637</td>\n",
       "      <td>0.010931</td>\n",
       "      <td>0.851852</td>\n",
       "    </tr>\n",
       "    <tr>\n",
       "      <th>3</th>\n",
       "      <td>0.345679</td>\n",
       "      <td>0.784000</td>\n",
       "      <td>0.188420</td>\n",
       "      <td>0.016396</td>\n",
       "      <td>0.873016</td>\n",
       "    </tr>\n",
       "    <tr>\n",
       "      <th>4</th>\n",
       "      <td>0.333333</td>\n",
       "      <td>0.830286</td>\n",
       "      <td>0.192345</td>\n",
       "      <td>0.020821</td>\n",
       "      <td>0.883598</td>\n",
       "    </tr>\n",
       "    <tr>\n",
       "      <th>...</th>\n",
       "      <td>...</td>\n",
       "      <td>...</td>\n",
       "      <td>...</td>\n",
       "      <td>...</td>\n",
       "      <td>...</td>\n",
       "    </tr>\n",
       "    <tr>\n",
       "      <th>236</th>\n",
       "      <td>0.012346</td>\n",
       "      <td>0.512000</td>\n",
       "      <td>0.794897</td>\n",
       "      <td>0.974207</td>\n",
       "      <td>0.486772</td>\n",
       "    </tr>\n",
       "    <tr>\n",
       "      <th>237</th>\n",
       "      <td>0.000000</td>\n",
       "      <td>0.480571</td>\n",
       "      <td>0.840039</td>\n",
       "      <td>0.982640</td>\n",
       "      <td>0.492063</td>\n",
       "    </tr>\n",
       "    <tr>\n",
       "      <th>238</th>\n",
       "      <td>0.024691</td>\n",
       "      <td>0.553714</td>\n",
       "      <td>0.887144</td>\n",
       "      <td>0.988427</td>\n",
       "      <td>0.486772</td>\n",
       "    </tr>\n",
       "    <tr>\n",
       "      <th>239</th>\n",
       "      <td>0.012346</td>\n",
       "      <td>0.528000</td>\n",
       "      <td>0.902846</td>\n",
       "      <td>0.994213</td>\n",
       "      <td>0.481481</td>\n",
       "    </tr>\n",
       "    <tr>\n",
       "      <th>240</th>\n",
       "      <td>0.000000</td>\n",
       "      <td>0.516571</td>\n",
       "      <td>0.938175</td>\n",
       "      <td>1.000000</td>\n",
       "      <td>0.476190</td>\n",
       "    </tr>\n",
       "  </tbody>\n",
       "</table>\n",
       "<p>241 rows × 5 columns</p>\n",
       "</div>"
      ],
      "text/plain": [
       "       UNRATE    PERMIT  FEDFUNDS       GDP  RHORUSQ156N\n",
       "0    0.320988  0.737143  0.237488  0.000000     0.809524\n",
       "1    0.333333  0.755429  0.237488  0.005465     0.830688\n",
       "2    0.358025  0.778286  0.229637  0.010931     0.851852\n",
       "3    0.345679  0.784000  0.188420  0.016396     0.873016\n",
       "4    0.333333  0.830286  0.192345  0.020821     0.883598\n",
       "..        ...       ...       ...       ...          ...\n",
       "236  0.012346  0.512000  0.794897  0.974207     0.486772\n",
       "237  0.000000  0.480571  0.840039  0.982640     0.492063\n",
       "238  0.024691  0.553714  0.887144  0.988427     0.486772\n",
       "239  0.012346  0.528000  0.902846  0.994213     0.481481\n",
       "240  0.000000  0.516571  0.938175  1.000000     0.476190\n",
       "\n",
       "[241 rows x 5 columns]"
      ]
     },
     "execution_count": 68,
     "metadata": {},
     "output_type": "execute_result"
    }
   ],
   "source": [
    "X"
   ]
  },
  {
   "cell_type": "code",
   "execution_count": 69,
   "id": "e36785c6",
   "metadata": {},
   "outputs": [],
   "source": [
    "from sklearn.model_selection import train_test_split\n",
    "X_train, X_test, y_train, y_test = train_test_split(X,y,test_size=0.3,random_state=10)"
   ]
  },
  {
   "cell_type": "markdown",
   "id": "42f4e647",
   "metadata": {},
   "source": [
    "### Linear Regression Model"
   ]
  },
  {
   "cell_type": "code",
   "execution_count": 70,
   "id": "8b5b90e6",
   "metadata": {},
   "outputs": [
    {
     "name": "stdout",
     "output_type": "stream",
     "text": [
      "0.9569528287493424\n",
      "0.9706806696044044\n"
     ]
    }
   ],
   "source": [
    "from sklearn.linear_model import LinearRegression\n",
    "lr = LinearRegression()\n",
    "lr.fit(X_train,y_train)\n",
    "print(lr.score(X_test,y_test))\n",
    "print(lr.score(X_train,y_train))"
   ]
  },
  {
   "cell_type": "code",
   "execution_count": 71,
   "id": "49846635",
   "metadata": {},
   "outputs": [],
   "source": [
    "y_train_pred_lr= lr.predict(X_train)\n",
    "y_test_pred_lr= lr.predict(X_test)"
   ]
  },
  {
   "cell_type": "code",
   "execution_count": 72,
   "id": "6293a993",
   "metadata": {},
   "outputs": [
    {
     "name": "stdout",
     "output_type": "stream",
     "text": [
      "Training MSE: 51.503262869326655\n",
      "Training R2: 0.9706806696044044\n",
      "Test MSE: 52.17480649834704\n",
      "Test R2: 0.9569528287493424\n",
      "Coefficient: [-10.37978413  26.87717444   7.69221594 172.03681507  47.78419082]\n"
     ]
    }
   ],
   "source": [
    "from sklearn.metrics import mean_squared_error, r2_score\n",
    "mse_train_lr = mean_squared_error(y_train, y_train_pred_lr)\n",
    "r2_train_lr= r2_score(y_train, y_train_pred_lr)\n",
    "\n",
    "# Calculate MSE and R-squared for the test set\n",
    "mse_test_lr = mean_squared_error(y_test, y_test_pred_lr)\n",
    "r2_test_lr= r2_score(y_test, y_test_pred_lr)\n",
    "\n",
    "lr_coefficients = lr.coef_\n",
    "\n",
    "print(\"Training MSE:\", mse_train_lr)\n",
    "print(\"Training R2:\", r2_train_lr)\n",
    "print(\"Test MSE:\", mse_test_lr)\n",
    "print(\"Test R2:\", r2_test_lr)\n",
    "print(\"Coefficient:\", lr_coefficients)"
   ]
  },
  {
   "cell_type": "markdown",
   "id": "e9e21771",
   "metadata": {},
   "source": [
    "### Random Forest Model"
   ]
  },
  {
   "cell_type": "code",
   "execution_count": 73,
   "id": "81313dcb",
   "metadata": {},
   "outputs": [
    {
     "data": {
      "text/html": [
       "<style>#sk-container-id-1 {color: black;}#sk-container-id-1 pre{padding: 0;}#sk-container-id-1 div.sk-toggleable {background-color: white;}#sk-container-id-1 label.sk-toggleable__label {cursor: pointer;display: block;width: 100%;margin-bottom: 0;padding: 0.3em;box-sizing: border-box;text-align: center;}#sk-container-id-1 label.sk-toggleable__label-arrow:before {content: \"▸\";float: left;margin-right: 0.25em;color: #696969;}#sk-container-id-1 label.sk-toggleable__label-arrow:hover:before {color: black;}#sk-container-id-1 div.sk-estimator:hover label.sk-toggleable__label-arrow:before {color: black;}#sk-container-id-1 div.sk-toggleable__content {max-height: 0;max-width: 0;overflow: hidden;text-align: left;background-color: #f0f8ff;}#sk-container-id-1 div.sk-toggleable__content pre {margin: 0.2em;color: black;border-radius: 0.25em;background-color: #f0f8ff;}#sk-container-id-1 input.sk-toggleable__control:checked~div.sk-toggleable__content {max-height: 200px;max-width: 100%;overflow: auto;}#sk-container-id-1 input.sk-toggleable__control:checked~label.sk-toggleable__label-arrow:before {content: \"▾\";}#sk-container-id-1 div.sk-estimator input.sk-toggleable__control:checked~label.sk-toggleable__label {background-color: #d4ebff;}#sk-container-id-1 div.sk-label input.sk-toggleable__control:checked~label.sk-toggleable__label {background-color: #d4ebff;}#sk-container-id-1 input.sk-hidden--visually {border: 0;clip: rect(1px 1px 1px 1px);clip: rect(1px, 1px, 1px, 1px);height: 1px;margin: -1px;overflow: hidden;padding: 0;position: absolute;width: 1px;}#sk-container-id-1 div.sk-estimator {font-family: monospace;background-color: #f0f8ff;border: 1px dotted black;border-radius: 0.25em;box-sizing: border-box;margin-bottom: 0.5em;}#sk-container-id-1 div.sk-estimator:hover {background-color: #d4ebff;}#sk-container-id-1 div.sk-parallel-item::after {content: \"\";width: 100%;border-bottom: 1px solid gray;flex-grow: 1;}#sk-container-id-1 div.sk-label:hover label.sk-toggleable__label {background-color: #d4ebff;}#sk-container-id-1 div.sk-serial::before {content: \"\";position: absolute;border-left: 1px solid gray;box-sizing: border-box;top: 0;bottom: 0;left: 50%;z-index: 0;}#sk-container-id-1 div.sk-serial {display: flex;flex-direction: column;align-items: center;background-color: white;padding-right: 0.2em;padding-left: 0.2em;position: relative;}#sk-container-id-1 div.sk-item {position: relative;z-index: 1;}#sk-container-id-1 div.sk-parallel {display: flex;align-items: stretch;justify-content: center;background-color: white;position: relative;}#sk-container-id-1 div.sk-item::before, #sk-container-id-1 div.sk-parallel-item::before {content: \"\";position: absolute;border-left: 1px solid gray;box-sizing: border-box;top: 0;bottom: 0;left: 50%;z-index: -1;}#sk-container-id-1 div.sk-parallel-item {display: flex;flex-direction: column;z-index: 1;position: relative;background-color: white;}#sk-container-id-1 div.sk-parallel-item:first-child::after {align-self: flex-end;width: 50%;}#sk-container-id-1 div.sk-parallel-item:last-child::after {align-self: flex-start;width: 50%;}#sk-container-id-1 div.sk-parallel-item:only-child::after {width: 0;}#sk-container-id-1 div.sk-dashed-wrapped {border: 1px dashed gray;margin: 0 0.4em 0.5em 0.4em;box-sizing: border-box;padding-bottom: 0.4em;background-color: white;}#sk-container-id-1 div.sk-label label {font-family: monospace;font-weight: bold;display: inline-block;line-height: 1.2em;}#sk-container-id-1 div.sk-label-container {text-align: center;}#sk-container-id-1 div.sk-container {/* jupyter's `normalize.less` sets `[hidden] { display: none; }` but bootstrap.min.css set `[hidden] { display: none !important; }` so we also need the `!important` here to be able to override the default hidden behavior on the sphinx rendered scikit-learn.org. See: https://github.com/scikit-learn/scikit-learn/issues/21755 */display: inline-block !important;position: relative;}#sk-container-id-1 div.sk-text-repr-fallback {display: none;}</style><div id=\"sk-container-id-1\" class=\"sk-top-container\"><div class=\"sk-text-repr-fallback\"><pre>RandomForestRegressor(max_depth=10, random_state=42)</pre><b>In a Jupyter environment, please rerun this cell to show the HTML representation or trust the notebook. <br />On GitHub, the HTML representation is unable to render, please try loading this page with nbviewer.org.</b></div><div class=\"sk-container\" hidden><div class=\"sk-item\"><div class=\"sk-estimator sk-toggleable\"><input class=\"sk-toggleable__control sk-hidden--visually\" id=\"sk-estimator-id-1\" type=\"checkbox\" checked><label for=\"sk-estimator-id-1\" class=\"sk-toggleable__label sk-toggleable__label-arrow\">RandomForestRegressor</label><div class=\"sk-toggleable__content\"><pre>RandomForestRegressor(max_depth=10, random_state=42)</pre></div></div></div></div></div>"
      ],
      "text/plain": [
       "RandomForestRegressor(max_depth=10, random_state=42)"
      ]
     },
     "execution_count": 73,
     "metadata": {},
     "output_type": "execute_result"
    }
   ],
   "source": [
    "from sklearn.ensemble import RandomForestRegressor\n",
    "from sklearn.model_selection import GridSearchCV\n",
    "from sklearn.metrics import mean_squared_error, r2_score\n",
    "\n",
    "# Define a range of values for n_estimators and max_depth\n",
    "param_grid = {\n",
    "    'n_estimators': [50, 100, 200],\n",
    "    'max_depth': [5, 10, 15]\n",
    "}\n",
    "\n",
    "# Create a Random Forest regressor\n",
    "rf = RandomForestRegressor(random_state=42)\n",
    "\n",
    "# Create a GridSearchCV object\n",
    "grid_search = GridSearchCV(estimator=rf, param_grid=param_grid, cv=5, scoring='neg_mean_squared_error')\n",
    "\n",
    "# Fit the GridSearchCV to your training data\n",
    "grid_search.fit(X_train, y_train)\n",
    "\n",
    "# Get the best hyperparameters\n",
    "best_n_estimators = grid_search.best_params_['n_estimators']\n",
    "best_max_depth = grid_search.best_params_['max_depth']\n",
    "\n",
    "# Create a Random Forest model with the best hyperparameters\n",
    "best_rf_model = RandomForestRegressor(n_estimators=best_n_estimators, max_depth=best_max_depth, random_state=42)\n",
    "best_rf_model.fit(X_train, y_train)"
   ]
  },
  {
   "cell_type": "code",
   "execution_count": 74,
   "id": "41908f97",
   "metadata": {},
   "outputs": [
    {
     "name": "stdout",
     "output_type": "stream",
     "text": [
      "Best n_estimators: 100\n",
      "Best max_depth: 10\n",
      "Training MSE: 2.325654233610436\n",
      "Training R2: 0.9986760717464805\n",
      "Test MSE: 4.384726079762049\n",
      "Test R2: 0.996382352573771\n",
      "Feature Importances: [0.11054038 0.00498099 0.00725238 0.87003537 0.00719089]\n"
     ]
    }
   ],
   "source": [
    "y_test_pred_rf = best_rf_model.predict(X_test)\n",
    "y_train_pred_rf = best_rf_model.predict(X_train)\n",
    "\n",
    "mse_train_rf = mean_squared_error(y_train, y_train_pred_rf)\n",
    "r2_train_rf = r2_score(y_train, y_train_pred_rf)\n",
    "\n",
    "# Calculate MSE and R-squared on the test set\n",
    "mse_test_rf = mean_squared_error(y_test, y_test_pred_rf)\n",
    "r2_test_rf = r2_score(y_test, y_test_pred_rf)\n",
    "\n",
    "\n",
    "print(f\"Best n_estimators: {best_n_estimators}\")\n",
    "print(f\"Best max_depth: {best_max_depth}\")\n",
    "print(\"Training MSE:\", mse_train_rf)\n",
    "print(\"Training R2:\", r2_train_rf)\n",
    "print(\"Test MSE:\", mse_test_rf)\n",
    "print(\"Test R2:\", r2_test_rf)\n",
    "\n",
    "# Extract and display feature importances\n",
    "rf_feature_importances = best_rf_model.feature_importances_\n",
    "\n",
    "print(\"Feature Importances:\", rf_feature_importances)"
   ]
  },
  {
   "cell_type": "markdown",
   "id": "363deeff",
   "metadata": {},
   "source": [
    "### Model Comparision "
   ]
  },
  {
   "cell_type": "code",
   "execution_count": 75,
   "id": "533d00e2",
   "metadata": {},
   "outputs": [],
   "source": [
    "# Create a dictionary to store the performance metrics for the models\n",
    "model_metrics = {\n",
    "    'Model': ['linear_reg', 'random_forest'],\n",
    "    'MSE Train': [mse_train_lr, mse_train_rf],\n",
    "    'R2 Train': [r2_train_lr, r2_train_rf],\n",
    "    'MSE Test': [mse_test_lr, mse_test_rf],\n",
    "    'R2 Test': [r2_test_lr, r2_test_rf]    \n",
    "}\n",
    "# Create a DataFrame from the model_metrics dictionary\n",
    "comparison_table = pd.DataFrame(model_metrics)"
   ]
  },
  {
   "cell_type": "code",
   "execution_count": 76,
   "id": "232c799d",
   "metadata": {},
   "outputs": [
    {
     "name": "stdout",
     "output_type": "stream",
     "text": [
      "+----+---------------+-------------+------------+------------+-----------+\n",
      "|    | Model         |   MSE Train |   R2 Train |   MSE Test |   R2 Test |\n",
      "+====+===============+=============+============+============+===========+\n",
      "|  0 | linear_reg    |    51.5033  |   0.970681 |   52.1748  |  0.956953 |\n",
      "+----+---------------+-------------+------------+------------+-----------+\n",
      "|  1 | random_forest |     2.32565 |   0.998676 |    4.38473 |  0.996382 |\n",
      "+----+---------------+-------------+------------+------------+-----------+\n"
     ]
    }
   ],
   "source": [
    "# Display the comparison table in a well formatted table format\n",
    "from tabulate import tabulate\n",
    "\n",
    "# Define a function to display the comparison table in a well-formatted table format\n",
    "def display_comparison_table(dataframe):\n",
    "    table_format = \"grid\"  # You can change this to \"fancy_grid\" or \"pretty\" for different table styles\n",
    "    print(tabulate(dataframe, headers='keys', tablefmt=table_format))\n",
    "\n",
    "# Call the function with the comparison_table DataFrame\n",
    "display_comparison_table(comparison_table)"
   ]
  },
  {
   "cell_type": "code",
   "execution_count": 77,
   "id": "e98d91c8",
   "metadata": {},
   "outputs": [
    {
     "data": {
      "text/html": [
       "<div>\n",
       "<style scoped>\n",
       "    .dataframe tbody tr th:only-of-type {\n",
       "        vertical-align: middle;\n",
       "    }\n",
       "\n",
       "    .dataframe tbody tr th {\n",
       "        vertical-align: top;\n",
       "    }\n",
       "\n",
       "    .dataframe thead th {\n",
       "        text-align: right;\n",
       "    }\n",
       "</style>\n",
       "<table border=\"1\" class=\"dataframe\">\n",
       "  <thead>\n",
       "    <tr style=\"text-align: right;\">\n",
       "      <th></th>\n",
       "      <th>Factors</th>\n",
       "      <th>Coef</th>\n",
       "    </tr>\n",
       "  </thead>\n",
       "  <tbody>\n",
       "    <tr>\n",
       "      <th>0</th>\n",
       "      <td>UNRATE</td>\n",
       "      <td>-10.379784</td>\n",
       "    </tr>\n",
       "    <tr>\n",
       "      <th>1</th>\n",
       "      <td>PERMIT</td>\n",
       "      <td>26.877174</td>\n",
       "    </tr>\n",
       "    <tr>\n",
       "      <th>2</th>\n",
       "      <td>FEDFUNDS</td>\n",
       "      <td>7.692216</td>\n",
       "    </tr>\n",
       "    <tr>\n",
       "      <th>3</th>\n",
       "      <td>GDP</td>\n",
       "      <td>172.036815</td>\n",
       "    </tr>\n",
       "    <tr>\n",
       "      <th>4</th>\n",
       "      <td>HOMEOWNERSHIP</td>\n",
       "      <td>47.784191</td>\n",
       "    </tr>\n",
       "  </tbody>\n",
       "</table>\n",
       "</div>"
      ],
      "text/plain": [
       "         Factors        Coef\n",
       "0         UNRATE  -10.379784\n",
       "1         PERMIT   26.877174\n",
       "2       FEDFUNDS    7.692216\n",
       "3            GDP  172.036815\n",
       "4  HOMEOWNERSHIP   47.784191"
      ]
     },
     "execution_count": 77,
     "metadata": {},
     "output_type": "execute_result"
    }
   ],
   "source": [
    "data = [\n",
    "    {\"Factors\": \"UNRATE\", \"Coef\": -10.37978413},\n",
    "    {\"Factors\": \"PERMIT\", \"Coef\": 26.87717444},\n",
    "     {\"Factors\": \"FEDFUNDS\", \"Coef\": 7.69221594},\n",
    "     {\"Factors\": \"GDP\", \"Coef\": 172.03681507},\n",
    "     {\"Factors\": \"HOMEOWNERSHIP\", \"Coef\": 47.78419082}\n",
    "]\n",
    "\n",
    "# Create a DataFrame\n",
    "df = pd.DataFrame(data)\n",
    "\n",
    "# Display the DataFrame\n",
    "df"
   ]
  },
  {
   "cell_type": "code",
   "execution_count": 78,
   "id": "f3098436",
   "metadata": {},
   "outputs": [
    {
     "name": "stderr",
     "output_type": "stream",
     "text": [
      "C:\\Users\\Gulshan\\anaconda3\\lib\\site-packages\\seaborn\\_decorators.py:36: FutureWarning: Pass the following variables as keyword args: x, y. From version 0.12, the only valid positional argument will be `data`, and passing other arguments without an explicit keyword will result in an error or misinterpretation.\n",
      "  warnings.warn(\n"
     ]
    },
    {
     "data": {
      "image/png": "[encoded data removed]",
      "text/plain": [
       "<Figure size 1080x720 with 1 Axes>"
      ]
     },
     "metadata": {
      "needs_background": "light"
     },
     "output_type": "display_data"
    }
   ],
   "source": [
    "plt.figure(figsize=(15,10))\n",
    "sns.barplot(df['Factors'], df['Coef'])\n",
    "plt.show()"
   ]
  },
  {
   "cell_type": "code",
   "execution_count": 79,
   "id": "b6e098e2",
   "metadata": {},
   "outputs": [
    {
     "data": {
      "text/html": [
       "<div>\n",
       "<style scoped>\n",
       "    .dataframe tbody tr th:only-of-type {\n",
       "        vertical-align: middle;\n",
       "    }\n",
       "\n",
       "    .dataframe tbody tr th {\n",
       "        vertical-align: top;\n",
       "    }\n",
       "\n",
       "    .dataframe thead th {\n",
       "        text-align: right;\n",
       "    }\n",
       "</style>\n",
       "<table border=\"1\" class=\"dataframe\">\n",
       "  <thead>\n",
       "    <tr style=\"text-align: right;\">\n",
       "      <th></th>\n",
       "      <th>Factors</th>\n",
       "      <th>Importance</th>\n",
       "    </tr>\n",
       "  </thead>\n",
       "  <tbody>\n",
       "    <tr>\n",
       "      <th>0</th>\n",
       "      <td>UNRATE</td>\n",
       "      <td>0.110540</td>\n",
       "    </tr>\n",
       "    <tr>\n",
       "      <th>1</th>\n",
       "      <td>PERMIT</td>\n",
       "      <td>0.004981</td>\n",
       "    </tr>\n",
       "    <tr>\n",
       "      <th>2</th>\n",
       "      <td>FEDFUNDS</td>\n",
       "      <td>0.007252</td>\n",
       "    </tr>\n",
       "    <tr>\n",
       "      <th>3</th>\n",
       "      <td>GDP</td>\n",
       "      <td>0.870035</td>\n",
       "    </tr>\n",
       "    <tr>\n",
       "      <th>4</th>\n",
       "      <td>HOMEOWNERSHIP</td>\n",
       "      <td>0.007191</td>\n",
       "    </tr>\n",
       "  </tbody>\n",
       "</table>\n",
       "</div>"
      ],
      "text/plain": [
       "         Factors  Importance\n",
       "0         UNRATE    0.110540\n",
       "1         PERMIT    0.004981\n",
       "2       FEDFUNDS    0.007252\n",
       "3            GDP    0.870035\n",
       "4  HOMEOWNERSHIP    0.007191"
      ]
     },
     "execution_count": 79,
     "metadata": {},
     "output_type": "execute_result"
    }
   ],
   "source": [
    "import pandas as pd\n",
    "\n",
    "data = [\n",
    "    {\"Factors\": \"UNRATE\", \"Importance\": 0.11054038},\n",
    "    {\"Factors\": \"PERMIT\", \"Importance\": 0.00498099},\n",
    "    {\"Factors\": \"FEDFUNDS\", \"Importance\": 0.00725238},\n",
    "    {\"Factors\": \"GDP\", \"Importance\": 0.87003537},\n",
    "    {\"Factors\": \"HOMEOWNERSHIP\", \"Importance\": 0.00719089}\n",
    "]\n",
    "\n",
    "# Create a DataFrame\n",
    "df1 = pd.DataFrame(data)\n",
    "\n",
    "# Display the modified DataFrame\n",
    "df1"
   ]
  },
  {
   "cell_type": "code",
   "execution_count": 80,
   "id": "b331d146",
   "metadata": {},
   "outputs": [
    {
     "name": "stderr",
     "output_type": "stream",
     "text": [
      "C:\\Users\\Gulshan\\anaconda3\\lib\\site-packages\\seaborn\\_decorators.py:36: FutureWarning: Pass the following variables as keyword args: x, y. From version 0.12, the only valid positional argument will be `data`, and passing other arguments without an explicit keyword will result in an error or misinterpretation.\n",
      "  warnings.warn(\n"
     ]
    },
    {
     "data": {
      "image/png": "[encoded data removed]",
      "text/plain": [
       "<Figure size 1080x720 with 1 Axes>"
      ]
     },
     "metadata": {
      "needs_background": "light"
     },
     "output_type": "display_data"
    }
   ],
   "source": [
    "plt.figure(figsize=(15,10))\n",
    "sns.barplot(df1['Factors'], df1['Importance'])\n",
    "plt.show()"
   ]
  }
 ],
 "metadata": {
  "kernelspec": {
   "display_name": "Python 3 (ipykernel)",
   "language": "python",
   "name": "python3"
  },
  "language_info": {
   "codemirror_mode": {
    "name": "ipython",
    "version": 3
   },
   "file_extension": ".py",
   "mimetype": "text/x-python",
   "name": "python",
   "nbconvert_exporter": "python",
   "pygments_lexer": "ipython3",
   "version": "3.9.7"
  }
 },
 "nbformat": 4,
 "nbformat_minor": 5
}
